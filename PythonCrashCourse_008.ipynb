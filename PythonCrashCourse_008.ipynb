{
 "cells": [
  {
   "attachments": {},
   "cell_type": "markdown",
   "metadata": {},
   "source": [
    "# Files and Exceptions\n",
    "\n",
    "Learning to work with files and save data will make your programs easier for people to use. Users will be able to choose what data to enter and when to enter it. People will be able to run your program, do some work, and then close the program and pick up where they left off. \n",
    "\n",
    "Learning to handle exceptions will help you deal with situations in which files don’t exist and deal with other problems that can cause your programs to crash. This will make your programs more robust when they encounter bad data, whether it comes from innocent mistakes or from malicious attempts to break your programs. With the skills you’ll learn in this chapter, you’ll make your programs more applicable, usable, and stable."
   ]
  },
  {
   "cell_type": "code",
   "execution_count": 6,
   "metadata": {},
   "outputs": [
    {
     "name": "stdout",
     "output_type": "stream",
     "text": [
      "3.1415926535\n",
      "  8979323846\n",
      "  2643383279\n"
     ]
    }
   ],
   "source": [
    "\"\"\"Path is a class provided by the pathlib module in Python's standard library to handle filesystem paths. \n",
    "It's a more contemporary and versatile approach to file and directory path manipulations, \n",
    "and is considered a replacement for the older os.path module.\"\"\"\n",
    "from pathlib import Path\n",
    "\n",
    "path = Path('pi.txt') #  A path is the exact location of a file or folder on a system.\n",
    "contents = path.read_text()\n",
    "contents = contents.rstrip() # The rstrip() method in Python is a built-in function that can be used to strip specified characters from the end (right side) of a string. The term rstrip stands for \"right strip\".\n",
    "print(contents)\n"
   ]
  },
  {
   "cell_type": "code",
   "execution_count": 7,
   "metadata": {},
   "outputs": [
    {
     "name": "stdout",
     "output_type": "stream",
     "text": [
      "3.1415926535\n",
      "  8979323846\n",
      "  2643383279\n"
     ]
    }
   ],
   "source": [
    "from pathlib import Path\n",
    "\n",
    "path = Path('pi.txt') #  A path is the exact location of a file or folder on a system.\n",
    "contents = path.read_text().rstrip()\n",
    "print(contents)"
   ]
  },
  {
   "attachments": {},
   "cell_type": "markdown",
   "metadata": {},
   "source": [
    "There are two main ways to specify paths in programming. \n",
    "\n",
    "-   A **relative file path** tells Python to look for a given location relative to the directory where the currently running program file is stored. Since text_files is inside python_work, we need to build a path that starts with   the directory text_files, and ends with the filename. Here’s how to build this path:\n",
    "`path = Path('text_files/filename.txt')`\n",
    "\n",
    "-   You can also tell Python exactly where the file is on your computer, regardless of where the program that’s being executed is stored. This is called an **absolute file path**. You can use an absolute path if a relative path doesn’t work. For instance, if you’ve put text_files in some folder other than python_work, then just passing Path the path 'text_files/filename.txt' won’t work because Python will only look for that location inside python_work. You’ll need to write out an absolute path to clarify where you want Python to look.\n",
    "Absolute paths are usually longer than relative paths, because they start at your system’s root folder:\n",
    "`path = Path('/home/eric/data_files/text_files/filename.txt')`\n",
    "\n",
    "-   Using absolute paths, you can read files from any location on your system. For now it’s easiest to store files in the same directory as your program files, or in a folder such as text_files within the directory that stores your program files.\n",
    "\n",
    "-   Windows systems use a backslash `(\\)` instead of a forward slash `(/)` when displaying file paths, but you should use forward slashes in your code, even on Windows. The pathlib library will automatically use the correct representation of the path when it interacts with your system, or any user’s system."
   ]
  },
  {
   "cell_type": "code",
   "execution_count": 9,
   "metadata": {},
   "outputs": [
    {
     "name": "stdout",
     "output_type": "stream",
     "text": [
      "3.1415926535\n",
      "  8979323846\n",
      "  2643383279\n",
      "  \n"
     ]
    }
   ],
   "source": [
    "\"\"\"The splitlines() method in Python is a built-in function that splits a string at line breaks. \n",
    "It returns a list where each element is a part of the string, separated by line breaks. \n",
    "The line breaks are not included in the resulting list.\"\"\"\n",
    "from pathlib import Path\n",
    "\n",
    "path = Path('pi.txt')\n",
    "contents = path.read_text()\n",
    "\n",
    "lines = contents.splitlines()\n",
    "for line in lines:\n",
    "    print(line)"
   ]
  },
  {
   "cell_type": "code",
   "execution_count": 1,
   "metadata": {},
   "outputs": [
    {
     "name": "stdout",
     "output_type": "stream",
     "text": [
      "3.141592653589793238462643383279\n",
      "32\n"
     ]
    }
   ],
   "source": [
    "\"\"\"build a single string containing all the digits in the pi.txt with no whitespace in it.\"\"\"\n",
    "from pathlib import Path\n",
    "\n",
    "path = Path('pi.txt')\n",
    "contents = path.read_text()\n",
    "\n",
    "lines = contents.splitlines()\n",
    "pi_string = ''\n",
    "for line in lines:\n",
    "    pi_string += line.lstrip()\n",
    "\n",
    "print(pi_string)\n",
    "print(len(pi_string))"
   ]
  },
  {
   "cell_type": "code",
   "execution_count": 8,
   "metadata": {},
   "outputs": [
    {
     "name": "stdout",
     "output_type": "stream",
     "text": [
      "C you can help me to manipulate data.C you can help me to generate game.C you can help me to do data analysis.\n"
     ]
    }
   ],
   "source": [
    "from pathlib import Path\n",
    "\n",
    "path = Path('learning_python.txt')\n",
    "contents = path.read_text().replace('Python', 'C') # replace Python to C \n",
    "\n",
    "lines = contents.splitlines()\n",
    "learning_py = ''\n",
    "for line in lines:\n",
    "    learning_py += line.lstrip()\n",
    "\n",
    "print(learning_py)"
   ]
  },
  {
   "cell_type": "code",
   "execution_count": 10,
   "metadata": {},
   "outputs": [
    {
     "name": "stdout",
     "output_type": "stream",
     "text": [
      "Python you can help me to manipulate data.Python you can help me to generate game.Python you can help me to do data analysis.\n"
     ]
    }
   ],
   "source": [
    "from pathlib import Path\n",
    "\n",
    "path = Path('learning_python.txt')\n",
    "contents = path.read_text()\n",
    "\n",
    "learning_py = ''\n",
    "for content in contents.splitlines():\n",
    "    learning_py += content\n",
    "\n",
    "print(learning_py)"
   ]
  },
  {
   "attachments": {},
   "cell_type": "markdown",
   "metadata": {},
   "source": [
    "\n",
    "Python can only write strings to a text file. If you want to store numerical data in a text file, you’ll have to convert the data to string format first using the str() function."
   ]
  },
  {
   "cell_type": "code",
   "execution_count": 16,
   "metadata": {},
   "outputs": [
    {
     "data": {
      "text/plain": [
       "21"
      ]
     },
     "execution_count": 16,
     "metadata": {},
     "output_type": "execute_result"
    }
   ],
   "source": [
    "# writing in a file\n",
    "from pathlib import Path\n",
    "\n",
    "path = Path('programming.txt')\n",
    "path.write_text(\"I love programming.\" + str(10))\n"
   ]
  },
  {
   "attachments": {},
   "cell_type": "markdown",
   "metadata": {},
   "source": [
    "\n",
    "Be careful when calling `write_text()` on a path object. If the file already exists, `write_text()` will erase the current contents of the file and write new contents to the file. \n",
    "\n",
    "`open('programming.txt', 'a') as f:`\n",
    "\n",
    "This line uses the built-in open() function to open a file. The function takes two arguments:\n",
    "\n",
    "-   The first argument is the name of the file that you want to open. Here, the file is named 'programming.txt'.\n",
    "-   The second argument is the mode in which you want to open the file. The __'a'__ stands for __'append'__, which means that the data you write to the file will be added at the end of the file, without deleting the existing data. If the file doesn't exist, it will be created.\n",
    "The as f part of the line assigns the open file to the variable f for the duration of the with block."
   ]
  },
  {
   "cell_type": "code",
   "execution_count": 18,
   "metadata": {},
   "outputs": [],
   "source": [
    "from pathlib import Path\n",
    "\n",
    "path = Path('programming.txt')\n",
    "with open('programming.txt', 'a') as f:\n",
    "    f.write(\"I love programming.\" + str(10))\n"
   ]
  },
  {
   "cell_type": "code",
   "execution_count": 19,
   "metadata": {},
   "outputs": [],
   "source": [
    "from pathlib import Path\n",
    "\n",
    "path = Path('programming.txt')\n",
    "\n",
    "contents = \"\\nI love creating new games.\"\n",
    "contents += \"\\nI also love working with data.\"\n",
    "\n",
    "with open('programming.txt', 'a') as f:\n",
    "    f.write(contents)"
   ]
  },
  {
   "cell_type": "code",
   "execution_count": 22,
   "metadata": {},
   "outputs": [],
   "source": [
    "\"\"\"Write a program that prompts the user for their name. When they respond, write their name to a new file name guest.txt.\"\"\"\n",
    "from pathlib import Path\n",
    "\n",
    "user_names = ['zhang long', 'zhao hu', 'wang chao', 'ma han']\n",
    "\n",
    "# Open the file in write mode ('w') and write the user's name\n",
    "with open('guest.txt', 'w') as file:\n",
    "    \"\"\"in write mode ('w'). If the file does not exist, Python will create it. \n",
    "    If it does exist, Python will overwrite it. The script then writes the user's name to the file.\"\"\"\n",
    "    for user_name in user_names:\n",
    "        file.write(user_name + '\\n')"
   ]
  },
  {
   "cell_type": "code",
   "execution_count": 27,
   "metadata": {},
   "outputs": [],
   "source": [
    "from pathlib import Path\n",
    "\n",
    "while True:\n",
    "    prompt = input(\"what is your name? (or 'quit' to stop): \")\n",
    "\n",
    "    if prompt == 'quit':\n",
    "        break\n",
    "    else:\n",
    "        # Open the file in append mode ('a')\n",
    "        with open('guest.txt', 'a') as file:\n",
    "            file.write(prompt + '\\n')\n",
    "\n"
   ]
  },
  {
   "attachments": {},
   "cell_type": "markdown",
   "metadata": {},
   "source": [
    "Exceptions\n",
    "\n",
    "Python uses special objects called exceptions to manage errors that arise during a program’s execution. Whenever an error occurs that makes Python unsure of what to do next, it creates an exception object. If you write code that handles the exception, the program will continue running. If you don’t handle the exception, the program will halt and show a traceback, which includes a report of the exception that was raised.\n",
    "\n",
    "Exceptions are handled with `try-except` blocks. A `try-except` block asks Python to do something, but it also tells Python what to do if an exception is raised. When you use try-except blocks, your programs will continue running even if things start to go wrong. Instead of tracebacks, which can be confusing for users to read, users will see friendly error messages that you’ve written."
   ]
  },
  {
   "cell_type": "code",
   "execution_count": 28,
   "metadata": {},
   "outputs": [
    {
     "name": "stdout",
     "output_type": "stream",
     "text": [
      "You cannot divide by zero!\n"
     ]
    }
   ],
   "source": [
    "# Handling the ZeroDivisionError Exception\n",
    "try:\n",
    "    print(5/0)\n",
    "except ZeroDivisionError:\n",
    "    print(\"You cannot divide by zero!\")"
   ]
  },
  {
   "cell_type": "code",
   "execution_count": 34,
   "metadata": {},
   "outputs": [
    {
     "name": "stdout",
     "output_type": "stream",
     "text": [
      "Give me two numbers, and I'll divide them.\n",
      "Enter 'q' to quit.\n",
      "\n",
      "First number: 10\n",
      "Second number: 20\n",
      "The answer is 0.5\n",
      "\n",
      "First number: 30\n",
      "Second number: 40\n",
      "The answer is 0.75\n",
      "\n",
      "First number: 90\n",
      "Second number: 0\n",
      "You cannot divide by 0!\n",
      "\n",
      "First number: q\n"
     ]
    }
   ],
   "source": [
    "print(\"Give me two numbers, and I'll divide them.\")\n",
    "print(\"Enter 'q' to quit.\")\n",
    "\n",
    "while True:\n",
    "    first_number = input(\"\\nFirst number: \")\n",
    "    print(f\"\\nFirst number: {first_number}\")\n",
    "    if first_number == 'q':\n",
    "        break\n",
    "    second_number = input(\"Second number: \")\n",
    "    print(f\"Second number: {second_number}\")\n",
    "    if second_number == 'q':\n",
    "        break\n",
    "    try:\n",
    "        answer = int(first_number) / int(second_number)\n",
    "    except ZeroDivisionError:\n",
    "        print(\"You cannot divide by 0!\")\n",
    "    else:\n",
    "        print(f\"The answer is {answer}\")\n",
    "   "
   ]
  },
  {
   "cell_type": "code",
   "execution_count": 36,
   "metadata": {},
   "outputs": [
    {
     "name": "stdout",
     "output_type": "stream",
     "text": [
      "Sorry, the file alice.txt does not exists.\n"
     ]
    }
   ],
   "source": [
    "# Handling the FileNotFoundError Exception\n",
    "from pathlib import Path\n",
    "\n",
    "path = Path('alice.txt')\n",
    "try:\n",
    "    \"\"\"UTF-8 is a character encoding scheme that allows you to use characters from most of the world's writing systems. \n",
    "    It's a flexible encoding that can handle data in virtually any language.\"\"\"\n",
    "    contents = path.read_text(encoding='utf-8')\n",
    "except FileNotFoundError:\n",
    "    print(f\"Sorry, the file {path} does not exists.\")"
   ]
  },
  {
   "cell_type": "code",
   "execution_count": 37,
   "metadata": {},
   "outputs": [
    {
     "name": "stdout",
     "output_type": "stream",
     "text": [
      "The file guest.txt has about 9 words.\n"
     ]
    }
   ],
   "source": [
    "from pathlib import Path\n",
    "\n",
    "path = Path('guest.txt')\n",
    "try:\n",
    "    contents = path.read_text(encoding='utf-8')\n",
    "except FileNotFoundError:\n",
    "    print(f\"Sorry, the file {path} does not exist.\")\n",
    "else:\n",
    "    # Count the approximate number of words in the file:\n",
    "    words = contents.split()\n",
    "    num_words = len(words)\n",
    "    print(f\"The file {path} has about {num_words} words.\")"
   ]
  },
  {
   "attachments": {},
   "cell_type": "markdown",
   "metadata": {},
   "source": [
    "The `split()` method in Python is used to split a string into a list of substrings based on a specified delimiter.\n",
    "\n",
    "The syntax of the `split()` method is: `str.split([separator [, maxsplit]])`\n",
    "\n",
    "Here, **separator** is an optional parameter, and if not provided, all whitespace will be used as the delimiter. This includes spaces, newlines (\\n), tabs (\\t), etc. If separator is specified, the string will be split at the specified separator.\n",
    "\n",
    "**maxsplit** is another optional argument. It is the maximum number of splits to do. The default value of -1 means \"all occurrences\"."
   ]
  },
  {
   "cell_type": "code",
   "execution_count": 44,
   "metadata": {},
   "outputs": [
    {
     "name": "stdout",
     "output_type": "stream",
     "text": [
      "The file guest.txt has about 9 words.\n",
      "The file learning_python.txt has about 25 words.\n",
      "The file pi.txt has about 3 words.\n",
      "Sorry, the file Alice.txt does not exist.\n"
     ]
    }
   ],
   "source": [
    "from pathlib import Path\n",
    "\n",
    "def count_words(path):\n",
    "    \"\"\"Count the approximate of words in a file.\"\"\"\n",
    "    try:\n",
    "        contents = path.read_text(encoding='utf-8')\n",
    "    except FileNotFoundError:\n",
    "        print(f\"Sorry, the file {path} does not exist.\")\n",
    "    else:\n",
    "        # Count the approximate number of words in the file:\n",
    "        words = contents.split()\n",
    "        num_words = len(words)\n",
    "        print(f\"The file {path} has about {num_words} words.\")\n",
    "\n",
    "filenames = ['guest.txt', 'learning_python.txt', 'pi.txt', 'Alice.txt']\n",
    "\n",
    "for filename in filenames:\n",
    "    path = Path(filename)\n",
    "    count_words(path)"
   ]
  },
  {
   "attachments": {},
   "cell_type": "markdown",
   "metadata": {},
   "source": [
    "Failing Silently\n",
    "\n",
    "In the previous example, we informed our users that one of the files was unavailable. But you don’t need to report every exception you catch. Sometimes, you’ll want the program to fail silently when an exception occurs and continue on as if nothing happened. To make a program fail silently, you write a `try` block as usual, but you explicitly tell Python to do nothing in the except block. Python has a `pass` statement that tells it to do nothing in a block."
   ]
  },
  {
   "cell_type": "code",
   "execution_count": 45,
   "metadata": {},
   "outputs": [
    {
     "name": "stdout",
     "output_type": "stream",
     "text": [
      "The file guest.txt has about 9 words.\n",
      "The file learning_python.txt has about 25 words.\n",
      "The file pi.txt has about 3 words.\n"
     ]
    }
   ],
   "source": [
    "from pathlib import Path\n",
    "\n",
    "def count_words(path):\n",
    "    \"\"\"Count the approximate of words in a file.\"\"\"\n",
    "    try:\n",
    "        contents = path.read_text(encoding='utf-8')\n",
    "    except FileNotFoundError:\n",
    "        pass # failing silently\n",
    "    else:\n",
    "        # Count the approximate number of words in the file:\n",
    "        words = contents.split()\n",
    "        num_words = len(words)\n",
    "        print(f\"The file {path} has about {num_words} words.\")\n",
    "\n",
    "filenames = ['guest.txt', 'learning_python.txt', 'pi.txt', 'Alice.txt']\n",
    "\n",
    "for filename in filenames:\n",
    "    path = Path(filename)\n",
    "    count_words(path)"
   ]
  },
  {
   "cell_type": "code",
   "execution_count": 52,
   "metadata": {},
   "outputs": [
    {
     "name": "stdout",
     "output_type": "stream",
     "text": [
      "Give me two numbers, and I'll divide them.\n",
      "Enter 'q' to quit.\n",
      "\n",
      "First number: 120\n",
      "Your second number: 40\n",
      "Your answer: 3.0\n",
      "\n",
      "First number: 30.98\n",
      "Your second number: 34.22\n",
      "Your answer: 0.9053185271770895\n",
      "\n",
      "First number: 120\n",
      "Your second number: 0\n",
      "You can't divide by 0!\n",
      "\n",
      "First number: 123\n",
      "Your second number: love\n",
      "You've entered an invalid number!\n",
      "\n",
      "First number: q\n"
     ]
    }
   ],
   "source": [
    "from pathlib import Path\n",
    "\n",
    "print(\"Give me two numbers, and I'll divide them.\")\n",
    "print(\"Enter 'q' to quit.\")\n",
    "\n",
    "def caculation(first_number, second_number):\n",
    "    try:\n",
    "        answer = float(first_number) / float(second_number)\n",
    "    except ZeroDivisionError:\n",
    "        print(\"You can't divide by 0!\")\n",
    "    except ValueError:\n",
    "        print(\"You've entered an invalid number!\")\n",
    "    else:\n",
    "        print(f\"Your answer: {answer}\") \n",
    "\n",
    "while True:\n",
    "    first_number = input(\"Your first number: \")\n",
    "    print(f\"\\nFirst number: {first_number}\")\n",
    "    if first_number == 'q':\n",
    "        break\n",
    "    second_number = input(\"Your second number: \")\n",
    "    print(f\"Your second number: {second_number}\")\n",
    "    if second_number == 'q':\n",
    "        break\n",
    "    caculation(first_number, second_number)\n",
    "    "
   ]
  },
  {
   "attachments": {},
   "cell_type": "markdown",
   "metadata": {},
   "source": [
    "Storing Data\n",
    "\n",
    "Many of your programs will ask users to input certain kinds of information. You might allow users to store preferences in a game or provide data for a visualization. Whatever the focus of your program is, you’ll store the information users provide in data structures such as lists and dictionaries. When users close a program, you’ll almost always want to save the information they entered. A simple way to do this involves storing your data using the `json` module.\n",
    "\n",
    "The `json` module allows you to convert simple Python data structures into JSON-formatted strings, and then load the data from that file the next time the program runs. You can also use json to share data between different Python programs. Even better, the JSON data format is not specific to Python, so you can share data you store in the JSON format with people who work in many other programming languages. It’s a useful and portable format, and it’s easy to learn.\n",
    "\n",
    "The `JSON` (JavaScript Object Notation) format was originally developed for JavaScript. However, it has since become a common format used by many languages, including Python."
   ]
  },
  {
   "attachments": {},
   "cell_type": "markdown",
   "metadata": {},
   "source": [
    "Using `json.dumps()` and `json.loads()`\n",
    "\n",
    "Let’s write a short program that stores a set of numbers and another program that reads these numbers back into memory. \n",
    "\n",
    "The first program will use `json.dumps()` to store the set of numbers, and the second program will use `json.loads()`.\n",
    "\n",
    "The `json.dumps()` function takes one argument: a piece of data that should be **converted to the JSON format**. \n",
    "\n",
    "The `json.loads()` function converts JSON data into Python's native data type, which is usually a dictionary or list."
   ]
  },
  {
   "cell_type": "code",
   "execution_count": 53,
   "metadata": {},
   "outputs": [
    {
     "data": {
      "text/plain": [
       "20"
      ]
     },
     "execution_count": 53,
     "metadata": {},
     "output_type": "execute_result"
    }
   ],
   "source": [
    "from pathlib import Path\n",
    "import json\n",
    "\n",
    "numbers = [2, 3, 5, 7, 11, 13]\n",
    "\n",
    "path = Path('numbers.json')\n",
    "contents = json.dumps(numbers) # use the json.dumps()function to generate a string containing the JSON \n",
    "                               # representation of the data we’re working with.\n",
    "path.write_text(contents)\n"
   ]
  },
  {
   "cell_type": "code",
   "execution_count": 54,
   "metadata": {},
   "outputs": [
    {
     "name": "stdout",
     "output_type": "stream",
     "text": [
      "[2, 3, 5, 7, 11, 13]\n"
     ]
    }
   ],
   "source": [
    "from pathlib import Path\n",
    "import json\n",
    "\n",
    "path = Path('numbers.json')\n",
    "contents = path.read_text()\n",
    "numbers = json.loads(contents)\n",
    "\n",
    "print(numbers)"
   ]
  },
  {
   "cell_type": "code",
   "execution_count": null,
   "metadata": {},
   "outputs": [],
   "source": []
  }
 ],
 "metadata": {
  "kernelspec": {
   "display_name": "Python 3",
   "language": "python",
   "name": "python3"
  },
  "language_info": {
   "codemirror_mode": {
    "name": "ipython",
    "version": 3
   },
   "file_extension": ".py",
   "mimetype": "text/x-python",
   "name": "python",
   "nbconvert_exporter": "python",
   "pygments_lexer": "ipython3",
   "version": "3.8.8"
  },
  "orig_nbformat": 4
 },
 "nbformat": 4,
 "nbformat_minor": 2
}
