{
 "cells": [
  {
   "attachments": {},
   "cell_type": "markdown",
   "metadata": {},
   "source": [
    "# Files and Exceptions\n",
    "\n",
    "Learning to work with files and save data will make your programs easier for people to use. Users will be able to choose what data to enter and when to enter it. People will be able to run your program, do some work, and then close the program and pick up where they left off. \n",
    "\n",
    "Learning to handle exceptions will help you deal with situations in which files don’t exist and deal with other problems that can cause your programs to crash. This will make your programs more robust when they encounter bad data, whether it comes from innocent mistakes or from malicious attempts to break your programs. With the skills you’ll learn in this chapter, you’ll make your programs more applicable, usable, and stable."
   ]
  },
  {
   "cell_type": "code",
   "execution_count": 6,
   "metadata": {},
   "outputs": [
    {
     "name": "stdout",
     "output_type": "stream",
     "text": [
      "3.1415926535\n",
      "  8979323846\n",
      "  2643383279\n"
     ]
    }
   ],
   "source": [
    "\"\"\"Path is a class provided by the pathlib module in Python's standard library to handle filesystem paths. \n",
    "It's a more contemporary and versatile approach to file and directory path manipulations, \n",
    "and is considered a replacement for the older os.path module.\"\"\"\n",
    "from pathlib import Path\n",
    "\n",
    "path = Path('pi.txt') #  A path is the exact location of a file or folder on a system.\n",
    "contents = path.read_text()\n",
    "contents = contents.rstrip() # The rstrip() method in Python is a built-in function that can be used to strip specified characters from the end (right side) of a string. The term rstrip stands for \"right strip\".\n",
    "print(contents)\n"
   ]
  },
  {
   "cell_type": "code",
   "execution_count": 7,
   "metadata": {},
   "outputs": [
    {
     "name": "stdout",
     "output_type": "stream",
     "text": [
      "3.1415926535\n",
      "  8979323846\n",
      "  2643383279\n"
     ]
    }
   ],
   "source": [
    "from pathlib import Path\n",
    "\n",
    "path = Path('pi.txt') #  A path is the exact location of a file or folder on a system.\n",
    "contents = path.read_text().rstrip()\n",
    "print(contents)"
   ]
  },
  {
   "attachments": {},
   "cell_type": "markdown",
   "metadata": {},
   "source": [
    "There are two main ways to specify paths in programming. \n",
    "\n",
    "-   A **relative file path** tells Python to look for a given location relative to the directory where the currently running program file is stored. Since text_files is inside python_work, we need to build a path that starts with   the directory text_files, and ends with the filename. Here’s how to build this path:\n",
    "`path = Path('text_files/filename.txt')`\n",
    "\n",
    "-   You can also tell Python exactly where the file is on your computer, regardless of where the program that’s being executed is stored. This is called an **absolute file path**. You can use an absolute path if a relative path doesn’t work. For instance, if you’ve put text_files in some folder other than python_work, then just passing Path the path 'text_files/filename.txt' won’t work because Python will only look for that location inside python_work. You’ll need to write out an absolute path to clarify where you want Python to look.\n",
    "Absolute paths are usually longer than relative paths, because they start at your system’s root folder:\n",
    "`path = Path('/home/eric/data_files/text_files/filename.txt')`\n",
    "\n",
    "-   Using absolute paths, you can read files from any location on your system. For now it’s easiest to store files in the same directory as your program files, or in a folder such as text_files within the directory that stores your program files.\n",
    "\n",
    "-   Windows systems use a backslash `(\\)` instead of a forward slash `(/)` when displaying file paths, but you should use forward slashes in your code, even on Windows. The pathlib library will automatically use the correct representation of the path when it interacts with your system, or any user’s system."
   ]
  },
  {
   "cell_type": "code",
   "execution_count": 9,
   "metadata": {},
   "outputs": [
    {
     "name": "stdout",
     "output_type": "stream",
     "text": [
      "3.1415926535\n",
      "  8979323846\n",
      "  2643383279\n",
      "  \n"
     ]
    }
   ],
   "source": [
    "\"\"\"The splitlines() method in Python is a built-in function that splits a string at line breaks. \n",
    "It returns a list where each element is a part of the string, separated by line breaks. \n",
    "The line breaks are not included in the resulting list.\"\"\"\n",
    "from pathlib import Path\n",
    "\n",
    "path = Path('pi.txt')\n",
    "contents = path.read_text()\n",
    "\n",
    "lines = contents.splitlines()\n",
    "for line in lines:\n",
    "    print(line)"
   ]
  },
  {
   "cell_type": "code",
   "execution_count": 10,
   "metadata": {},
   "outputs": [
    {
     "name": "stdout",
     "output_type": "stream",
     "text": [
      "3.1415926535  8979323846  2643383279  \n",
      "38\n"
     ]
    }
   ],
   "source": [
    "\"\"\"build a single string containing all the digits in the pi.txt with no whitespace in it.\"\"\"\n",
    "from pathlib import Path\n",
    "\n",
    "path = Path('pi.txt')\n",
    "contents = path.read_text()\n",
    "\n",
    "lines = contents.splitlines()\n",
    "pi_string = ''\n",
    "for line in lines:\n",
    "    pi_string += line\n",
    "\n",
    "print(pi_string)\n",
    "print(len(pi_string))"
   ]
  },
  {
   "cell_type": "code",
   "execution_count": null,
   "metadata": {},
   "outputs": [],
   "source": []
  }
 ],
 "metadata": {
  "kernelspec": {
   "display_name": "Python 3",
   "language": "python",
   "name": "python3"
  },
  "language_info": {
   "codemirror_mode": {
    "name": "ipython",
    "version": 3
   },
   "file_extension": ".py",
   "mimetype": "text/x-python",
   "name": "python",
   "nbconvert_exporter": "python",
   "pygments_lexer": "ipython3",
   "version": "3.11.2"
  },
  "orig_nbformat": 4
 },
 "nbformat": 4,
 "nbformat_minor": 2
}
