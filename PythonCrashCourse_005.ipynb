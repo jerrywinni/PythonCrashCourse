{
 "cells": [
  {
   "attachments": {},
   "cell_type": "markdown",
   "metadata": {},
   "source": [
    "\n",
    "User Input and while Loops\n",
    "\n",
    "Most programs are written to solve an end user’s problem. To do so, you usually need to get some information from the user. For example, say someone wants to find out whether they’re old enough to vote. If you write a program to answer this question, you need to know the user’s age before you can provide an answer. The program will need to ask the user to enter, or input, their age; once the program has this input, it can compare it to the voting age to determine if the user is old enough and then report the result.\n",
    "\n",
    "Use Python’s while loop to keep programs running as long as certain conditions remain true."
   ]
  },
  {
   "cell_type": "code",
   "execution_count": 1,
   "metadata": {},
   "outputs": [
    {
     "name": "stdout",
     "output_type": "stream",
     "text": [
      "Hello\n"
     ]
    }
   ],
   "source": [
    "message = input(\"Tell me something, and I will repeat it back to you:\")\n",
    "print(message)"
   ]
  },
  {
   "cell_type": "code",
   "execution_count": 2,
   "metadata": {},
   "outputs": [
    {
     "name": "stdout",
     "output_type": "stream",
     "text": [
      "\n",
      "Hello, Jerry\n"
     ]
    }
   ],
   "source": [
    "name = input(\"Please enter your name: \")\n",
    "print(f\"\\nHello, {name}\")"
   ]
  },
  {
   "cell_type": "code",
   "execution_count": 4,
   "metadata": {},
   "outputs": [
    {
     "name": "stdout",
     "output_type": "stream",
     "text": [
      "\n",
      "Hello, Jerry!\n"
     ]
    }
   ],
   "source": [
    "prompt = \"If you share your name, we can personalize the messages you see.\"\n",
    "prompt += \"\\nWhat is your first name? \" #  the operator += takes the string that was assigned to prompt and adds the new string onto the end.\n",
    "\n",
    "name = input(prompt)\n",
    "print(f\"\\nHello, {name}!\")"
   ]
  },
  {
   "cell_type": "code",
   "execution_count": 5,
   "metadata": {},
   "outputs": [
    {
     "name": "stdout",
     "output_type": "stream",
     "text": [
      "\n",
      "You'll be able to ride when you're a little older.\n"
     ]
    }
   ],
   "source": [
    "height = input(\"How tall are you, in inches? \")\n",
    "height = int(height)\n",
    "\n",
    "if height >= 48:\n",
    "    print(\"\\nYou're tall enough to ride!\")\n",
    "else:\n",
    "    print(\"\\nYou'll be able to ride when you're a little older.\")"
   ]
  },
  {
   "cell_type": "code",
   "execution_count": 6,
   "metadata": {},
   "outputs": [
    {
     "name": "stdout",
     "output_type": "stream",
     "text": [
      "\n",
      "You're tall enough to ride!\n"
     ]
    }
   ],
   "source": [
    "height = int(input(\"How tall are you, in inches? \"))\n",
    "\n",
    "if height >= 48:\n",
    "    print(\"\\nYou're tall enough to ride!\")\n",
    "else:\n",
    "    print(\"\\nYou'll be able to ride when you're a little older.\")"
   ]
  },
  {
   "attachments": {},
   "cell_type": "markdown",
   "metadata": {},
   "source": [
    "The Modulo Operator\n",
    "\n",
    "A useful tool for working with numerical information is the modulo operator (%), which divides one number by another number and returns the remainder.\n",
    "\n",
    "The modulo operator doesn’t tell you how many times one number fits into another; it only tells you what the remainder is.\n",
    "\n",
    "When one number is divisible by another number, the remainder is 0, so the modulo operator always returns 0. You can use this fact to determine if a number is even or odd:\n",
    "\n"
   ]
  },
  {
   "cell_type": "code",
   "execution_count": 10,
   "metadata": {},
   "outputs": [
    {
     "name": "stdout",
     "output_type": "stream",
     "text": [
      "\n",
      "The number 48329457857849390 is even.\n"
     ]
    }
   ],
   "source": [
    "number = input(\"Enter a number, and I'll tell you if it's even or odd: \")\n",
    "number = int(number)\n",
    "\n",
    "if number % 2 == 0:\n",
    "    print(f\"\\nThe number {number} is even.\")\n",
    "else:\n",
    "    print(f\"The number {number} is odd.\")"
   ]
  },
  {
   "cell_type": "code",
   "execution_count": 12,
   "metadata": {},
   "outputs": [
    {
     "name": "stdout",
     "output_type": "stream",
     "text": [
      "Your table is ready.\n"
     ]
    }
   ],
   "source": [
    "prompt = input(\"How many people are in your dinner group?\")\n",
    "prompt = int(prompt)\n",
    "\n",
    "if prompt > 8:\n",
    "    print(f\"Your group people is {prompt} which more than eight, you have to wait for a table.\")\n",
    "else:\n",
    "    print(\"Your table is ready.\")"
   ]
  },
  {
   "cell_type": "code",
   "execution_count": 15,
   "metadata": {},
   "outputs": [
    {
     "name": "stdout",
     "output_type": "stream",
     "text": [
      "The number 201 isn't multiple of 10.\n"
     ]
    }
   ],
   "source": [
    "prompt = input(\"Please give us a number and we'll help you check whether the number is a multiple of 10 or not: \")\n",
    "prompt = int(prompt)\n",
    "\n",
    "if prompt % 10 == 0:\n",
    "    print(f\"The number {prompt} is multiple of 10.\")\n",
    "else:\n",
    "    print(f\"The number {prompt} isn't multiple of 10.\")"
   ]
  },
  {
   "attachments": {},
   "cell_type": "markdown",
   "metadata": {},
   "source": [
    "Introducing while Loops\n",
    "\n",
    "The for loop takes a collection of items and executes a block of code once for each item in the collection. In contrast, the while loop runs as long as, or while, a certain condition is true.\n",
    "\n",
    "\n",
    "The programs you use every day most likely contain while loops. For example, a game needs a while loop to keep running as long as you want to keep playing, and so it can stop running as soon as you ask it to quit. Programs wouldn’t be fun to use if they stopped running before we told them to or kept running even after we wanted to quit, so while loops are quite useful."
   ]
  },
  {
   "cell_type": "code",
   "execution_count": 16,
   "metadata": {},
   "outputs": [
    {
     "name": "stdout",
     "output_type": "stream",
     "text": [
      "1\n",
      "2\n",
      "3\n",
      "4\n",
      "5\n"
     ]
    }
   ],
   "source": [
    "current_number = 1\n",
    "while current_number <= 5:\n",
    "    print(current_number)\n",
    "    current_number += 1"
   ]
  },
  {
   "cell_type": "code",
   "execution_count": 17,
   "metadata": {},
   "outputs": [
    {
     "name": "stdout",
     "output_type": "stream",
     "text": [
      "I love you \n",
      "Hello everyone\n",
      "quit\n"
     ]
    }
   ],
   "source": [
    "prompt = \"\\nTell me something, and I will repeat it back to you:\"\n",
    "prompt += \"\\nEnter 'quit' to end the program\"\n",
    "\n",
    "message = \"\"\n",
    "while message != 'quit':\n",
    "    message = input(prompt)\n",
    "    print(message)"
   ]
  },
  {
   "cell_type": "code",
   "execution_count": 20,
   "metadata": {},
   "outputs": [
    {
     "name": "stdout",
     "output_type": "stream",
     "text": [
      "90\n"
     ]
    }
   ],
   "source": [
    "\"\"\" \n",
    "After the user inputs their message, the program checks to see if message is not equal to 'quit'. This is what the if message != 'quit': line is doing.\n",
    "\n",
    "If message is not 'quit', then the program will print out whatever the user typed in. This is what print(message) is doing.\n",
    "\n",
    "If message is 'quit', then the print statement is skipped, and the loop condition is checked again. Since message is 'quit', the loop condition is now false, and the loop ends.\n",
    "\n",
    "The purpose of the if message != 'quit': check is to prevent the program from echoing 'quit' back to the user before ending. Without this check, when the user types 'quit', the program would print 'quit' and then end.\n",
    "\"\"\"\n",
    "prompt = \"\\nTell me something, and I will repeat it back to you:\"\n",
    "prompt += \"\\nEnter 'quit' to end the program\"\n",
    "\n",
    "message = \"\"\n",
    "while message != 'quit':\n",
    "    message = input(prompt)\n",
    "\n",
    "    if message != 'quit':\n",
    "        print(message)\n",
    "\n"
   ]
  },
  {
   "attachments": {},
   "cell_type": "markdown",
   "metadata": {},
   "source": [
    "\n",
    "For a program that should run only as long as many conditions are true, you can define one variable that determines whether or not the entire program is active. This variable, called a **flag**, acts as a signal to the program. We can write our programs so they run while the flag is set to True and stop running when any of several events sets the value of the flag to False. As a result, our overall while statement needs to check only one condition: whether the flag is currently True. Then, all our other tests (to see if an event has occurred that should set the flag to False) can be neatly organized in the rest of the program."
   ]
  },
  {
   "cell_type": "code",
   "execution_count": 21,
   "metadata": {},
   "outputs": [
    {
     "name": "stdout",
     "output_type": "stream",
     "text": [
      "Hello everyone\n",
      "I love you \n"
     ]
    }
   ],
   "source": [
    "prompt = \"\\nTell me something, and I will repeat it back to you:\"\n",
    "prompt += \"\\nEnter 'quit' to end the program.\"\n",
    "\n",
    "active = True\n",
    "while active:\n",
    "    message = input(prompt)\n",
    "\n",
    "    if message == 'quit':\n",
    "        active = False\n",
    "    else:\n",
    "        print(message)"
   ]
  },
  {
   "cell_type": "code",
   "execution_count": 2,
   "metadata": {},
   "outputs": [
    {
     "name": "stdout",
     "output_type": "stream",
     "text": [
      "I'd love to go to Beijing.\n",
      "I'd love to go to Qit.\n"
     ]
    }
   ],
   "source": [
    "prompt = \"\\nPlease enter the name of a city you have visited:\"\n",
    "prompt += \"\\n(Enter 'quit' when you are finished)\"\n",
    "\n",
    "while True:\n",
    "    city = input(prompt)\n",
    "\n",
    "    if city == 'quit':\n",
    "        break\n",
    "    else:\n",
    "        print(f\"I'd love to go to {city.title()}.\")"
   ]
  },
  {
   "attachments": {},
   "cell_type": "markdown",
   "metadata": {},
   "source": [
    "Using continue in a Loop\n",
    "\n",
    "Rather than breaking out of a loop entirely without executing the rest of its code, you can use the continue statement to return to the beginning of the loop, based on the result of a conditional test."
   ]
  },
  {
   "cell_type": "code",
   "execution_count": 3,
   "metadata": {},
   "outputs": [
    {
     "name": "stdout",
     "output_type": "stream",
     "text": [
      "1\n",
      "3\n",
      "5\n",
      "7\n",
      "9\n"
     ]
    }
   ],
   "source": [
    "current_number = 0\n",
    "while current_number < 10:\n",
    "    current_number += 1\n",
    "    if current_number % 2 == 0:\n",
    "        continue\n",
    "\n",
    "    print(current_number)"
   ]
  },
  {
   "cell_type": "code",
   "execution_count": 9,
   "metadata": {},
   "outputs": [
    {
     "name": "stdout",
     "output_type": "stream",
     "text": [
      "Due to your age is 56, so your ticket price is 15.\n",
      "Due to your age is 56, so your ticket price is 15.\n",
      "Due to your age is 8, so your ticket price is 10.\n"
     ]
    }
   ],
   "source": [
    "\"\"\" \n",
    "Movie Tickets: A movie theater charges different ticket prices depending on a person’s age. \n",
    "If a person is under the age of 3, the ticket is free; if they are between 3 and 12, the ticket is $10; and if they are over age 12, the ticket is $15. \n",
    "Write a loop in which you ask users their age, and then tell them the cost of their movie ticket.\n",
    "\"\"\"\n",
    "\n",
    "prompt = \"\\nPlease key in you age!\"\n",
    "prompt += \"\\nThe system can tell you about the price of the ticket.\"\n",
    "prompt += \"\\nEnter 'quit' when you are finished\"\n",
    "\n",
    "while True:\n",
    "    age_input = input(prompt)\n",
    "\n",
    "    if age_input == 'quit':\n",
    "        break\n",
    "    else:\n",
    "        age = int(age_input)\n",
    "\n",
    "    if age < 3:\n",
    "        print(f\"Due to your age is {age}, so your ticket price is free.\")\n",
    "    elif 3 <= age and age < 12:\n",
    "        print(f\"Due to your age is {age}, so your ticket price is 10.\") \n",
    "    else:\n",
    "        print(f\"Due to your age is {age}, so your ticket price is 15.\")"
   ]
  },
  {
   "cell_type": "code",
   "execution_count": 16,
   "metadata": {},
   "outputs": [
    {
     "name": "stdout",
     "output_type": "stream",
     "text": [
      "Due to your age is 6, so your ticket price is 10.\n",
      "Due to your age is 89, so your ticket price is 15.\n",
      "Due to your age is 12, so your ticket price is 15.\n",
      "Due to your age is 11, so your ticket price is 10.\n",
      "Due to your age is 3, so your ticket price is 10.\n",
      "Due to your age is 2, so your ticket price is free.\n"
     ]
    }
   ],
   "source": [
    "\"\"\" \n",
    "Movie Tickets: A movie theater charges different ticket prices depending on a person’s age. \n",
    "If a person is under the age of 3, the ticket is free; if they are between 3 and 12, the ticket is $10; and if they are over age 12, the ticket is $15. \n",
    "Write a loop in which you ask users their age, and then tell them the cost of their movie ticket.\n",
    "\"\"\"\n",
    "\n",
    "prompt = \"\\nPlease key in you age!\"\n",
    "prompt += \"\\nThe system can tell you about the price of the ticket.\"\n",
    "prompt += \"\\nEnter 'quit' when you are finished\"\n",
    "\n",
    "# Define a dictionary to store the age ranges and associated prices\n",
    "\n",
    "price_dict = {\n",
    "    'child': {'min_age': 0, 'max_age': 3, 'price': 'free'},\n",
    "    'youth': {'min_age': 3, 'max_age': 12, 'price': 10},\n",
    "    'adult': {'min_age': 12, 'max_age': None, 'price': 15},\n",
    "}\n",
    "\n",
    "while True:\n",
    "    age_input = input(prompt)\n",
    "\n",
    "    if age_input == 'quit':\n",
    "        break\n",
    "    else:\n",
    "        age = int(age_input)\n",
    "    \n",
    "    for category, value in price_dict.items():\n",
    "        if (age >= value['min_age']) and (value['max_age'] is None or age < value['max_age']):\n",
    "            print(f\"Due to your age is {age}, so your ticket price is {value['price']}.\")\n",
    "\n",
    "\"\"\" \n",
    "The statement value['max_age'] is None checks whether the 'max_age' value in the dictionary is None.\n",
    "\n",
    "In Python, None is a special constant that represents the absence of a value or a null value. In the context of this program, None is being used as a placeholder for 'no upper limit'.\n",
    "\n",
    "In the price_dict dictionary, the 'adult' category has its 'max_age' set to None. This is done because there is no upper limit to the age that a person can be considered an adult.\n",
    "\n",
    "When the code is checking which category the age falls into, value['max_age'] is None or age < value['max_age'] checks if the 'max_age' is None (i.e., there is no upper limit) OR if the age is less than the 'max_age'. \n",
    "If either condition is true, then the age falls into that category.\n",
    "\n",
    "In short, value['max_age'] is None is used to accommodate categories that don't have an upper age limit.\n",
    "\"\"\"\n"
   ]
  },
  {
   "cell_type": "code",
   "execution_count": 18,
   "metadata": {},
   "outputs": [
    {
     "name": "stdout",
     "output_type": "stream",
     "text": [
      "Verifying user: Candace\n",
      "Verifying user: Brain\n",
      "Verifying user: Alice\n",
      "\n",
      "The following users have been confirmed:\n",
      "Candace\n",
      "Brain\n",
      "Alice\n"
     ]
    }
   ],
   "source": [
    "# Start with users that need to be verified, and an empty list to hold confirmed users.\n",
    "unconfirmed_users = ['alice', 'brain', 'candace']\n",
    "confirmed_users = []\n",
    "\n",
    "# Verify each user until there are no more unconfirmed users.\n",
    "# Move each verified user into the list of confirmed users.\n",
    "while unconfirmed_users:\n",
    "    current_user = unconfirmed_users.pop()\n",
    "\n",
    "    print(f\"Verifying user: {current_user.title()}\")\n",
    "    confirmed_users.append(current_user)\n",
    "\n",
    "# Display all confirmed users.\n",
    "print(\"\\nThe following users have been confirmed:\")\n",
    "for confirmed_user in confirmed_users:\n",
    "    print(confirmed_user.title())"
   ]
  },
  {
   "cell_type": "code",
   "execution_count": 4,
   "metadata": {},
   "outputs": [
    {
     "name": "stdout",
     "output_type": "stream",
     "text": [
      "['dog', 'cat', 'dog', 'goldfish', 'cat', 'rabbit', 'cat']\n",
      "['dog', 'dog', 'goldfish', 'rabbit']\n"
     ]
    }
   ],
   "source": [
    "pets = ['dog', 'cat', 'dog', 'goldfish', 'cat', 'rabbit', 'cat']\n",
    "print(pets)\n",
    "\n",
    "while 'cat' in pets:\n",
    "    pets.remove('cat')\n",
    "\n",
    "print(pets)"
   ]
  },
  {
   "attachments": {},
   "cell_type": "markdown",
   "metadata": {},
   "source": [
    "Here's a step-by-step breakdown:\n",
    "\n",
    "The while keyword starts a loop that continues as long as the condition after it is true.\n",
    "\n",
    "The condition in this case is 'cat' in pets. This checks if the string 'cat' is an element in the list pets. As long as there is at least one 'cat' in pets, this condition is true, and the loop continues.\n",
    "\n",
    "Inside the loop, pets.remove('cat') is called. This removes the first occurrence of 'cat' from the list pets.\n",
    "\n",
    "After a 'cat' is removed, the program goes back to the while condition and checks if there is still a 'cat' in pets. If there is, another 'cat' is removed, and this process repeats.\n",
    "\n",
    "Eventually, all the 'cat' strings are removed from pets, so 'cat' in pets is false, and the loop ends.\n",
    "\n",
    "The updated pets list, which no longer contains any 'cat' strings, is then printed.\n",
    "\n",
    "This is a useful way to remove all occurrences of a certain value from a list in Python."
   ]
  },
  {
   "cell_type": "code",
   "execution_count": 3,
   "metadata": {},
   "outputs": [
    {
     "name": "stdout",
     "output_type": "stream",
     "text": [
      "['dog', 'cat', 'dog', 'goldfish', 'cat', 'rabbit', 'cat']\n",
      "['goldfish', 'rabbit']\n"
     ]
    }
   ],
   "source": [
    "pets = ['dog', 'cat', 'dog', 'goldfish', 'cat', 'rabbit', 'cat']\n",
    "print(pets)\n",
    "\n",
    "# The condition after while should be a single Boolean expression, not a comma-separated list.\n",
    "while 'cat' in pets:\n",
    "    pets.remove('cat')\n",
    "\n",
    "while 'dog' in pets:\n",
    "    pets.remove('dog')\n",
    "\n",
    "print(pets)"
   ]
  },
  {
   "cell_type": "code",
   "execution_count": 6,
   "metadata": {},
   "outputs": [
    {
     "name": "stdout",
     "output_type": "stream",
     "text": [
      "\n",
      "--- Poll Results ---\n",
      "Jerry would like to climb Wudang.\n",
      "Alex would like to climb Fuji.\n"
     ]
    }
   ],
   "source": [
    "responses ={}\n",
    "# Set a flag to indicate that polling is active.\n",
    "polling_active = True\n",
    "\n",
    "while polling_active:\n",
    "    # Prompt for the person's name and response.\n",
    "    name = input(\"\\nWhat is your name? \")\n",
    "    response = input(\"Which mountain would you like to climb someday? \")\n",
    "\n",
    "    # Store the response in the dictionary.\n",
    "    responses[name] = response\n",
    "\n",
    "    # Find out if anyone else is going to take the poll.\n",
    "    repeat = input(\"Would you like to let another person respond? (yes/no) \")\n",
    "    if repeat == 'no':\n",
    "        polling_active = False\n",
    "\n",
    "# Polling is complete. Show the results.\n",
    "print(\"\\n--- Poll Results ---\")\n",
    "for name, response in responses.items():\n",
    "    print(f\"{name.title()} would like to climb {response.title()}.\")"
   ]
  }
 ],
 "metadata": {
  "kernelspec": {
   "display_name": "Python 3",
   "language": "python",
   "name": "python3"
  },
  "language_info": {
   "codemirror_mode": {
    "name": "ipython",
    "version": 3
   },
   "file_extension": ".py",
   "mimetype": "text/x-python",
   "name": "python",
   "nbconvert_exporter": "python",
   "pygments_lexer": "ipython3",
   "version": "3.11.2"
  },
  "orig_nbformat": 4
 },
 "nbformat": 4,
 "nbformat_minor": 2
}
