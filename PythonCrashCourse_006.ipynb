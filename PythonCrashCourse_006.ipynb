{
 "cells": [
  {
   "attachments": {},
   "cell_type": "markdown",
   "metadata": {},
   "source": [
    "\n",
    "Functions"
   ]
  },
  {
   "cell_type": "code",
   "execution_count": 2,
   "metadata": {},
   "outputs": [
    {
     "name": "stdout",
     "output_type": "stream",
     "text": [
      "Hello!\n"
     ]
    }
   ],
   "source": [
    "def greet_user():\n",
    "    \"\"\"Display a simple greeting.\"\"\"\n",
    "    print(\"Hello!\")\n",
    "\n",
    "greet_user()"
   ]
  },
  {
   "cell_type": "code",
   "execution_count": 3,
   "metadata": {},
   "outputs": [
    {
     "name": "stdout",
     "output_type": "stream",
     "text": [
      "Hello, Jesse!\n"
     ]
    }
   ],
   "source": [
    "def greet_user(username):\n",
    "    \"\"\"Display a simple greeting.\"\"\"\n",
    "    print(f\"Hello, {username.title()}!\")\n",
    "\n",
    "greet_user('jesse')"
   ]
  },
  {
   "attachments": {},
   "cell_type": "markdown",
   "metadata": {},
   "source": [
    "Passing Arguments\n",
    "\n",
    "Because a function definition can have multiple parameters, a function call may need multiple arguments. You can pass arguments to your functions in a number of ways. You can use **positional arguments**, which need to be in the same order the parameters were written; **keyword arguments**, where each argument consists of a variable name and a value; and lists and dictionaries of values."
   ]
  },
  {
   "cell_type": "code",
   "execution_count": 8,
   "metadata": {},
   "outputs": [
    {
     "name": "stdout",
     "output_type": "stream",
     "text": [
      "\n",
      "I have a hamster.\n",
      "My hamster's name is Harry.\n",
      "\n",
      "I have a dog.\n",
      "My dog's name is Willie.\n",
      "\n",
      "I have a harry.\n",
      "My harry's name is Hamster.\n"
     ]
    }
   ],
   "source": [
    "# Positional Arguments\n",
    "def  describe_pet(aniaml_type, pet_name):\n",
    "    \"\"\"Display information about a pet.\"\"\"\n",
    "    print(f\"\\nI have a {aniaml_type}.\")\n",
    "    print(f\"My {aniaml_type}'s name is {pet_name.title()}.\")\n",
    "\n",
    "describe_pet('hamster', 'harry')\n",
    "describe_pet('dog', 'willie')\n",
    "describe_pet('harry', 'hamster')"
   ]
  },
  {
   "cell_type": "code",
   "execution_count": 10,
   "metadata": {},
   "outputs": [
    {
     "name": "stdout",
     "output_type": "stream",
     "text": [
      "\n",
      "I have a hamster.\n",
      "My hamster's name is Harry.\n",
      "\n",
      "I have a hamster.\n",
      "My hamster's name is Harry.\n"
     ]
    }
   ],
   "source": [
    "# Keyword arguments\n",
    "def  describe_pet(aniaml_type, pet_name):\n",
    "    \"\"\"Display information about a pet.\"\"\"\n",
    "    print(f\"\\nI have a {aniaml_type}.\")\n",
    "    print(f\"My {aniaml_type}'s name is {pet_name.title()}.\")\n",
    "\n",
    "describe_pet(aniaml_type='hamster', pet_name='harry')\n",
    "describe_pet(pet_name='harry', aniaml_type='hamster')"
   ]
  },
  {
   "attachments": {},
   "cell_type": "markdown",
   "metadata": {},
   "source": [
    "Default Values\n",
    "\n",
    "This feature is particularly useful in two scenarios:\n",
    "\n",
    "When you want to make a function more flexible. By providing default values, you can create a function that can be used in a variety of scenarios. Users of your function can override default values when needed, but they can also use the function easily without providing every single argument.\n",
    "\n",
    "When you are extending an existing function. If you're adding new arguments to a function, you can give those new arguments default values. This means that existing code that calls your function without providing the new arguments will still work."
   ]
  },
  {
   "cell_type": "code",
   "execution_count": 3,
   "metadata": {},
   "outputs": [
    {
     "name": "stdout",
     "output_type": "stream",
     "text": [
      "\n",
      "I have a dog.\n",
      "My dog's name is Willie.\n",
      "\n",
      "I have a cat.\n",
      "My cat's name is Willie.\n"
     ]
    }
   ],
   "source": [
    "def describe_pet(pet_name, aniaml_type='dog'):\n",
    "    \"\"\"Display information about a pet.\"\"\"\n",
    "    print(f\"\\nI have a {aniaml_type}.\")\n",
    "    print(f\"My {aniaml_type}'s name is {pet_name.title()}.\")\n",
    "\n",
    "describe_pet(pet_name='willie')\n",
    "describe_pet(pet_name='willie', aniaml_type='cat')"
   ]
  },
  {
   "attachments": {},
   "cell_type": "markdown",
   "metadata": {},
   "source": [
    "Return Values\n",
    "\n",
    "In Python, a \"return\" statement is used in a function to send the result of that function back to the caller. This result is known as the \"return value\". When a return statement is executed, the function terminates, and the specified value is passed back to the point where the function was called.\n",
    "\n",
    "The use of return values can make your programs more modular and easier to read and debug. It allows functions to produce results that can then be used elsewhere in your code.\n",
    "\n",
    "Without the return statement, the function would not provide any result to the caller, and any computation performed inside the function would not be accessible outside of it."
   ]
  },
  {
   "cell_type": "code",
   "execution_count": 4,
   "metadata": {},
   "outputs": [
    {
     "name": "stdout",
     "output_type": "stream",
     "text": [
      "Jimi Hendrix\n"
     ]
    }
   ],
   "source": [
    "def get_formatted_name(first_name, last_name):\n",
    "    \"\"\"Return a full name, neatly formatted.\"\"\"\n",
    "    full_name = f\"{first_name} {last_name}\"\n",
    "    return full_name.title()\n",
    "\n",
    "musician = get_formatted_name('jimi', 'hendrix')\n",
    "print(musician)"
   ]
  },
  {
   "cell_type": "code",
   "execution_count": 5,
   "metadata": {},
   "outputs": [
    {
     "name": "stdout",
     "output_type": "stream",
     "text": [
      "7\n"
     ]
    }
   ],
   "source": [
    "def add_number(num1, num2):\n",
    "    return num1 + num2\n",
    "\n",
    "sum_of_numbers = add_number(3, 4)\n",
    "print(sum_of_numbers)"
   ]
  },
  {
   "attachments": {},
   "cell_type": "markdown",
   "metadata": {},
   "source": [
    "Making an Argument Optional\n",
    "\n",
    "Sometimes it makes sense to make an argument optional, so that people using the function can choose to provide extra information only if they want to. You can use default values to make an argument optional."
   ]
  },
  {
   "cell_type": "code",
   "execution_count": 7,
   "metadata": {},
   "outputs": [
    {
     "name": "stdout",
     "output_type": "stream",
     "text": [
      "John Lee Hooker\n"
     ]
    }
   ],
   "source": [
    "def get_formatted_name(first_name, middle_name, last_name):\n",
    "    \"\"\"Return a full name, neatly formatted.\"\"\"\n",
    "    full_name = f\"{first_name} {middle_name} {last_name}\"\n",
    "    return full_name.title()\n",
    "\n",
    "musician = get_formatted_name('john', 'lee', 'hooker')\n",
    "print(musician)"
   ]
  },
  {
   "attachments": {},
   "cell_type": "markdown",
   "metadata": {},
   "source": [
    "\n",
    "In the body of the function, we check to see if a middle name has been provided. Python interprets non-empty strings as True, so the conditional test if middle_name evaluates to True if a middle name argument is in the function call. If a middle name is provided, the first, middle, and last names are combined to form a full name. This name is then changed to title case and returned to the function call line, where it’s assigned to the variable musician and printed. If no middle name is provided, the empty string fails the if test and the else block runs. The full name is made with just a first and last name, and the formatted name is returned to the calling line where it’s assigned to musician and printed.\n",
    "\n",
    "Calling this function with a first and last name is straightforward. If we’re using a middle name, however, we have to make sure the middle name is the last argument passed so Python will match up the positional arguments correctly"
   ]
  },
  {
   "cell_type": "code",
   "execution_count": 19,
   "metadata": {},
   "outputs": [
    {
     "name": "stdout",
     "output_type": "stream",
     "text": [
      "\n",
      "John Hooker, \n",
      "John Lee Hooker\n"
     ]
    }
   ],
   "source": [
    "def get_formatted_name(first_name, last_name, middle_name=None):\n",
    "    \"\"\"Return a full name, neatly formatted.\"\"\"\n",
    "    \"\"\"Python interprets non-empty strings as True, so the conditional test if middle_name evaluates to True if a middle name argument is in the function call.\n",
    "    If no middle name is provided, the empty string fails the if test and the else block runs.\"\"\"\n",
    "    if middle_name:\n",
    "        full_name = f\"{first_name} {middle_name} {last_name}\"\n",
    "    else:\n",
    "        full_name = f\"{first_name} {last_name}\"\n",
    "    return full_name.title()\n",
    "\n",
    "musician_0 = get_formatted_name('john', 'hooker')\n",
    "musician_1 = get_formatted_name(first_name='john', middle_name='lee', last_name='hooker')\n",
    "print(f\"\\n{musician_0}, \\n{musician_1}\")"
   ]
  },
  {
   "cell_type": "code",
   "execution_count": 21,
   "metadata": {},
   "outputs": [
    {
     "name": "stdout",
     "output_type": "stream",
     "text": [
      "{'first': 'jimi', 'last': 'hendrix'}\n"
     ]
    }
   ],
   "source": [
    "def build_person(first_name, last_name):\n",
    "    \"\"\"Return a dictionary of information about a person.\"\"\"\n",
    "    person = {\n",
    "        'first': first_name,\n",
    "        'last': last_name\n",
    "    }\n",
    "    return person\n",
    "\n",
    "musician = build_person('jimi', 'hendrix')\n",
    "print(musician)"
   ]
  },
  {
   "cell_type": "code",
   "execution_count": 22,
   "metadata": {},
   "outputs": [
    {
     "name": "stdout",
     "output_type": "stream",
     "text": [
      "{'first': 'jimi', 'last': 'hendrix', 'age': 27}\n"
     ]
    }
   ],
   "source": [
    "def build_person(first_name, last_name, age=None):\n",
    "    \"\"\"Return a dictioanry of information about a person.\"\"\"\n",
    "    person = {\n",
    "        'first': first_name,\n",
    "        'last': last_name\n",
    "    }\n",
    "    if age:\n",
    "        person['age'] = age\n",
    "    return person\n",
    "\n",
    "musician = build_person('jimi', 'hendrix', age=27)\n",
    "print(musician)"
   ]
  },
  {
   "cell_type": "code",
   "execution_count": 23,
   "metadata": {},
   "outputs": [
    {
     "name": "stdout",
     "output_type": "stream",
     "text": [
      "\n",
      "Please tell me your name: \n",
      "(enter 'q' at any time to quit)\n",
      "\n",
      "Hello, Jerry Xiong\n",
      "\n",
      "Please tell me your name: \n",
      "(enter 'q' at any time to quit)\n"
     ]
    }
   ],
   "source": [
    "def get_formatted_name(first_name, last_name):\n",
    "    \"\"\"Return a full name, neatly formatted\"\"\"\n",
    "    full_name = f\"{first_name} {last_name}\"\n",
    "    return full_name.title()\n",
    "\n",
    "while True:\n",
    "    print(\"\\nPlease tell me your name: \")\n",
    "    print(\"(enter 'q' at any time to quit)\")\n",
    "\n",
    "    f_name = input(\"First name: \")\n",
    "    if f_name == 'q':\n",
    "        break\n",
    "    l_name = input(\"Last name: \")\n",
    "    if l_name == 'q':\n",
    "        break\n",
    "\n",
    "    formatted_name = get_formatted_name(f_name, l_name)\n",
    "    print(f\"\\nHello, {formatted_name}!\")\n"
   ]
  },
  {
   "cell_type": "code",
   "execution_count": 24,
   "metadata": {},
   "outputs": [
    {
     "name": "stdout",
     "output_type": "stream",
     "text": [
      "Paris, France\n"
     ]
    }
   ],
   "source": [
    "def city_country(city, country):\n",
    "    full_pair = f\"{city}, {country}\"\n",
    "    return full_pair\n",
    "\n",
    "pair_0 = city_country('Paris', 'France')\n",
    "print(pair_0)"
   ]
  },
  {
   "cell_type": "code",
   "execution_count": 32,
   "metadata": {},
   "outputs": [
    {
     "name": "stdout",
     "output_type": "stream",
     "text": [
      "{'name': 'jerry', 'title': 'Dream', 'Number of song': 20} \n",
      "{'name': 'Eric', 'title': 'Down'}\n"
     ]
    }
   ],
   "source": [
    "def make_album(artist_name, album_title, num_song=None):\n",
    "    album = {\n",
    "        'name': artist_name,\n",
    "        'title': album_title\n",
    "    }\n",
    "    if num_song:\n",
    "        album['Number of song'] = num_song\n",
    "    return album\n",
    "\n",
    "songer_0 = make_album('jerry', 'Dream', 20)\n",
    "songer_1 = make_album('Eric', 'Down')\n",
    "\n",
    "print(f\"{songer_0} \\n{songer_1}\")"
   ]
  },
  {
   "cell_type": "code",
   "execution_count": 38,
   "metadata": {},
   "outputs": [
    {
     "name": "stdout",
     "output_type": "stream",
     "text": [
      "\n",
      "Please describe your album:\n",
      "(enter 'q' at any time to quit)\n",
      "{'name': 'jerry', 'title': 'dream', 'Number of song': 10}\n",
      "\n",
      "Please describe your album:\n",
      "(enter 'q' at any time to quit)\n",
      "{'name': 'cate', 'title': 'love'}\n",
      "\n",
      "Please describe your album:\n",
      "(enter 'q' at any time to quit)\n"
     ]
    }
   ],
   "source": [
    "def make_album(artist_name, album_title, num_song=None):\n",
    "    album = {\n",
    "        'name': artist_name,\n",
    "        'title': album_title\n",
    "    }\n",
    "    if num_song:\n",
    "        album['Number of song'] = num_song\n",
    "    return album\n",
    "\n",
    "while True:\n",
    "    print(\"\\nPlease describe your album:\")\n",
    "    print(\"(enter 'q' at any time to quit)\")\n",
    "\n",
    "    a_name = input(\"Artist's name: \")\n",
    "    if a_name == 'q':\n",
    "        break\n",
    "    a_title = input(\"Title of album: \")\n",
    "    if a_title == 'q':\n",
    "        break\n",
    "    n_song_input = input(\"Number of songs: \")\n",
    "    n_song = int(n_song_input) if n_song_input else None # Assign None if input is empty\n",
    "    \n",
    "    full_album = make_album(a_name, a_title, n_song)\n",
    "    print(full_album)"
   ]
  },
  {
   "cell_type": "code",
   "execution_count": 1,
   "metadata": {},
   "outputs": [
    {
     "name": "stdout",
     "output_type": "stream",
     "text": [
      "Hello, Hannah\n",
      "Hello, Ty\n",
      "Hello, Margot\n"
     ]
    }
   ],
   "source": [
    "def greet_users(names):\n",
    "    \"\"\"Print a simple greeting to each user in the lists.\"\"\"\n",
    "    for name in names:\n",
    "        msg = f\"Hello, {name.title()}\"\n",
    "        print(msg)\n",
    "\n",
    "usernames = ['hannah', 'ty', 'margot']\n",
    "greet_users(usernames)"
   ]
  },
  {
   "cell_type": "code",
   "execution_count": 2,
   "metadata": {},
   "outputs": [
    {
     "name": "stdout",
     "output_type": "stream",
     "text": [
      "Printing model: dodecahedron\n",
      "Printing model: robot pendant\n",
      "Printing model: phone case\n",
      "\n",
      "The following models have been printed:\n",
      "dodecahedron\n",
      "robot pendant\n",
      "phone case\n"
     ]
    }
   ],
   "source": [
    "# Start with some designs that need to be printed.\n",
    "unprinted_designs = ['phone case', 'robot pendant', 'dodecahedron']\n",
    "completed_models = []\n",
    "\n",
    "# Simulate printing each design, until none are left.\n",
    "# Move each design to completed_models after printing.\n",
    "while unprinted_designs:\n",
    "    current_design = unprinted_designs.pop()\n",
    "    print(f\"Printing model: {current_design}\")\n",
    "    completed_models.append(current_design)\n",
    "\n",
    "# Display all completed models.\n",
    "print(\"\\nThe following models have been printed:\")\n",
    "for complete_model in completed_models:\n",
    "    print(complete_model)"
   ]
  },
  {
   "cell_type": "code",
   "execution_count": 5,
   "metadata": {},
   "outputs": [
    {
     "name": "stdout",
     "output_type": "stream",
     "text": [
      "Printing model: dodecahedron\n",
      "Printing model: robot pendant\n",
      "Printing model: phone case\n",
      "\n",
      "The following models have been printed:\n",
      "dodecahedron\n",
      "robot pendant\n",
      "phone case\n",
      "\n",
      "['phone case', 'robot pendant', 'dodecahedron']\n"
     ]
    }
   ],
   "source": [
    "def print_models(unprinted_designs, completed_models):\n",
    "    \"\"\" \n",
    "    Simulate printing each design, until none are left.\n",
    "    Move each design to completed_models after printing.\n",
    "    \"\"\"\n",
    "    while unprinted_designs:\n",
    "        current_design = unprinted_designs.pop()\n",
    "        print(f\"Printing model: {current_design}\")\n",
    "        completed_models.append(current_design)\n",
    "\n",
    "def show_completed_models(completed_models):\n",
    "    \"\"\"Show all the models that were printed.\"\"\"\n",
    "    print(\"\\nThe following models have been printed:\")\n",
    "    for complete_model in completed_models:\n",
    "        print(complete_model)\n",
    "\n",
    "unprinted_designs = ['phone case', 'robot pendant', 'dodecahedron']\n",
    "completed_models = []\n",
    "\n",
    "print_models(unprinted_designs[:], completed_models) #  passing the function a copy of the list, not the original. Any changes the function makes to the list will affect only the copy, leaving the original list intact.\n",
    "show_completed_models(completed_models)\n",
    "print(f\"\\n{unprinted_designs}\")"
   ]
  },
  {
   "cell_type": "code",
   "execution_count": 6,
   "metadata": {},
   "outputs": [
    {
     "name": "stdout",
     "output_type": "stream",
     "text": [
      "Hello, guys!\n",
      "How do you do?\n",
      "Nice to meet you!\n"
     ]
    }
   ],
   "source": [
    "def show_messages(messages):\n",
    "    for message in messages:\n",
    "        print(message)\n",
    "\n",
    "users_messages = ['Hello, guys!', 'How do you do?', 'Nice to meet you!']\n",
    "show_messages(users_messages)"
   ]
  },
  {
   "cell_type": "code",
   "execution_count": 10,
   "metadata": {},
   "outputs": [
    {
     "name": "stdout",
     "output_type": "stream",
     "text": [
      "Nice to meet you!\n",
      "How do you do?\n",
      "Hello, guys!\n",
      "['Hello, guys!', 'How do you do?', 'Nice to meet you!']\n"
     ]
    }
   ],
   "source": [
    "def send_messages(show_messages, completed_messages):\n",
    "    while show_messages:\n",
    "        current_message = show_messages.pop()\n",
    "        completed_messages.append(current_message)\n",
    "\n",
    "def printed_send_messages(completed_messages):\n",
    "    for completed_message in completed_messages:\n",
    "        print(completed_message)\n",
    "\n",
    "show_messages = ['Hello, guys!', 'How do you do?', 'Nice to meet you!']\n",
    "completed_messages = []\n",
    "\n",
    "send_messages(show_messages[:], completed_messages) # keep the original list no tounch\n",
    "printed_send_messages(completed_messages)\n",
    "\n",
    "print(show_messages)"
   ]
  },
  {
   "cell_type": "code",
   "execution_count": 11,
   "metadata": {},
   "outputs": [
    {
     "name": "stdout",
     "output_type": "stream",
     "text": [
      "Nice to meet you!\n",
      "How do you do?\n",
      "Hello, guys!\n",
      "[]\n"
     ]
    }
   ],
   "source": [
    "def send_messages(show_messages, completed_messages):\n",
    "    while show_messages:\n",
    "        current_message = show_messages.pop()\n",
    "        completed_messages.append(current_message)\n",
    "\n",
    "def printed_send_messages(completed_messages):\n",
    "    for completed_message in completed_messages:\n",
    "        print(completed_message)\n",
    "\n",
    "show_messages = ['Hello, guys!', 'How do you do?', 'Nice to meet you!']\n",
    "completed_messages = []\n",
    "\n",
    "send_messages(show_messages, completed_messages) # modify the original list\n",
    "printed_send_messages(completed_messages)\n",
    "\n",
    "print(show_messages)"
   ]
  },
  {
   "attachments": {},
   "cell_type": "markdown",
   "metadata": {},
   "source": [
    "Passing an Arbitrary Number of Arguments\n",
    "\n",
    "\n",
    "Sometimes you won’t know ahead of time how many arguments a function needs to accept. Fortunately, Python allows a function to collect an arbitrary number of arguments from the calling statement.\n",
    "\n",
    "For example, consider a function that builds a pizza. It needs to accept a number of toppings, but you can’t know ahead of time how many toppings a person will want. The function in the following example has one parameter, *toppings, but this parameter collects as many arguments as the calling line provides:\n",
    "\n",
    "If you want a function to accept several different kinds of arguments, the parameter that accepts an arbitrary number of arguments must be placed **last in the function definition**."
   ]
  },
  {
   "cell_type": "code",
   "execution_count": 12,
   "metadata": {},
   "outputs": [
    {
     "name": "stdout",
     "output_type": "stream",
     "text": [
      "('pepperoni',)\n",
      "('mushrooms', 'green peppers', 'extra cheese')\n"
     ]
    }
   ],
   "source": [
    "# The asterisk in the parameter name *toppings tells Python to make a tuple called toppings, containing all the values this function receives.\n",
    "def make_pizze(*toppings): \n",
    "    \"\"\"Print the list of toppings that have been requested.\"\"\"\n",
    "    print(toppings)\n",
    "\n",
    "make_pizze('pepperoni')\n",
    "make_pizze('mushrooms', 'green peppers', 'extra cheese')\n"
   ]
  },
  {
   "cell_type": "code",
   "execution_count": 13,
   "metadata": {},
   "outputs": [
    {
     "name": "stdout",
     "output_type": "stream",
     "text": [
      "\n",
      "Making a pizza with the following toppings:\n",
      "- pepperoni\n",
      "\n",
      "Making a pizza with the following toppings:\n",
      "- mushrooms\n",
      "- green peppers\n",
      "- extra cheese\n"
     ]
    }
   ],
   "source": [
    "def make_pizza(*toppings):\n",
    "    \"\"\"Summarize the pizza we are about to make.\"\"\"\n",
    "    print(\"\\nMaking a pizza with the following toppings:\")\n",
    "    for topping in toppings:\n",
    "        print(f\"- {topping}\")\n",
    "\n",
    "make_pizza('pepperoni')\n",
    "make_pizza('mushrooms', 'green peppers', 'extra cheese')"
   ]
  },
  {
   "cell_type": "code",
   "execution_count": 17,
   "metadata": {},
   "outputs": [
    {
     "name": "stdout",
     "output_type": "stream",
     "text": [
      "\n",
      "Making a 16-inch pizza with the following toppings:\n",
      "- pepperoni\n",
      "\n",
      "Making a 12-inch pizza with the following toppings:\n",
      "- mushrooms\n",
      "- green peppers\n",
      "- extra cheese\n"
     ]
    }
   ],
   "source": [
    "def make_pizza(size, *toppings):\n",
    "    \"\"\"Summarize the pizza we are about to make.\"\"\"\n",
    "    print(f\"\\nMaking a {size}-inch pizza with the following toppings:\")\n",
    "    for topping in toppings:\n",
    "        print(f\"- {topping}\")\n",
    "\n",
    "make_pizza(16, 'pepperoni')\n",
    "make_pizza(12, 'mushrooms', 'green peppers', 'extra cheese')"
   ]
  },
  {
   "cell_type": "code",
   "execution_count": 18,
   "metadata": {},
   "outputs": [
    {
     "name": "stdout",
     "output_type": "stream",
     "text": [
      "{'location': 'princeton', 'field': 'physics', 'first_name': 'albert', 'last_name': 'einstein'}\n"
     ]
    }
   ],
   "source": [
    "\"\"\" \n",
    "The definition of build_profile() expects a first and last name, and then it allows the user to pass in as many name-value pairs as they want.\n",
    "The double asterisks before the parameter **user_info cause Python to create a dictionary called user_info containing all the extra name-value pairs the function receives. \n",
    "Within the function, you can access the key-value pairs in user_info just as you would for any dictionary.\n",
    "\"\"\"\n",
    "def build_profile(first, last, **user_info):\n",
    "    \"\"\"Build a dictionary containing everything we know about a users.\"\"\"\n",
    "    user_info['first_name'] = first\n",
    "    user_info['last_name'] = last\n",
    "    return user_info\n",
    "\n",
    "user_profile = build_profile('albert', 'einstein', \n",
    "                             location='princeton',\n",
    "                             field='physics')\n",
    "\n",
    "print(user_profile)"
   ]
  },
  {
   "cell_type": "code",
   "execution_count": 19,
   "metadata": {},
   "outputs": [
    {
     "name": "stdout",
     "output_type": "stream",
     "text": [
      "\n",
      "Customer Jerry has order the following sanwich:\n",
      "- pepperoni\n",
      "\n",
      "Customer Alex has order the following sanwich:\n",
      "- mushrooms\n",
      "- green peppers\n",
      "- extra cheese\n"
     ]
    }
   ],
   "source": [
    "def make_sandwich(name, *sanwiches):\n",
    "    print(f\"\\nCustomer {name} has order the following sanwich:\")\n",
    "    for sanwich in sanwiches:\n",
    "        print(f\"- {sanwich}\")\n",
    "\n",
    "make_sandwich('Jerry', \"pepperoni\")\n",
    "make_sandwich('Alex', 'mushrooms', 'green peppers', 'extra cheese')"
   ]
  },
  {
   "cell_type": "code",
   "execution_count": 21,
   "metadata": {},
   "outputs": [
    {
     "name": "stdout",
     "output_type": "stream",
     "text": [
      "{'color': 'blue', 'tow_package': True, 'first_name': 'subaru', 'last_name': 'outback'}\n"
     ]
    }
   ],
   "source": [
    "def car_profile(first, last, **car_infor):\n",
    "    car_infor['first_name'] = first\n",
    "    car_infor['last_name'] = last\n",
    "    return car_infor\n",
    "\n",
    "user_infor = car_profile('subaru', 'outback', color='blue', tow_package=True)\n",
    "\n",
    "print(user_infor)"
   ]
  },
  {
   "cell_type": "code",
   "execution_count": 24,
   "metadata": {},
   "outputs": [
    {
     "name": "stdout",
     "output_type": "stream",
     "text": [
      "[{'car_name': 'subaru', 'car_rear': 'outback', 'color': 'blue', 'tow_package': True}, {'car_name': 'subaru', 'car_rear': 'outback', 'color': 'blue', 'tow_package': True}]\n"
     ]
    }
   ],
   "source": [
    "def car_profile(**car_infor):\n",
    "    return car_infor\n",
    "\n",
    "user_infor_0 = car_profile(car_name='subaru', car_rear='outback', color='blue', tow_package=True)\n",
    "user_infor_1 = car_profile(car_name='subaru', car_rear='outback', color='blue', tow_package=True)\n",
    "\n",
    "user_infor = [user_infor_0, user_infor_1]\n",
    "\n",
    "print(user_infor)"
   ]
  },
  {
   "attachments": {},
   "cell_type": "markdown",
   "metadata": {},
   "source": [
    "Importing an Entire Module"
   ]
  },
  {
   "cell_type": "code",
   "execution_count": 26,
   "metadata": {},
   "outputs": [
    {
     "ename": "ModuleNotFoundError",
     "evalue": "No module named 'pizza'",
     "output_type": "error",
     "traceback": [
      "\u001b[1;31m---------------------------------------------------------------------------\u001b[0m",
      "\u001b[1;31mModuleNotFoundError\u001b[0m                       Traceback (most recent call last)",
      "Cell \u001b[1;32mIn[26], line 1\u001b[0m\n\u001b[1;32m----> 1\u001b[0m \u001b[39mimport\u001b[39;00m \u001b[39mpizza\u001b[39;00m\n\u001b[0;32m      3\u001b[0m pizza\u001b[39m.\u001b[39mmake_pizza(\u001b[39m16\u001b[39m, \u001b[39m'\u001b[39m\u001b[39mpepperoni\u001b[39m\u001b[39m'\u001b[39m)\n",
      "\u001b[1;31mModuleNotFoundError\u001b[0m: No module named 'pizza'"
     ]
    }
   ],
   "source": [
    "import pizza\n",
    "\n",
    "pizza.make_pizza(16, 'pepperoni')"
   ]
  },
  {
   "cell_type": "code",
   "execution_count": null,
   "metadata": {},
   "outputs": [],
   "source": []
  }
 ],
 "metadata": {
  "kernelspec": {
   "display_name": "Python 3",
   "language": "python",
   "name": "python3"
  },
  "language_info": {
   "codemirror_mode": {
    "name": "ipython",
    "version": 3
   },
   "file_extension": ".py",
   "mimetype": "text/x-python",
   "name": "python",
   "nbconvert_exporter": "python",
   "pygments_lexer": "ipython3",
   "version": "3.11.2"
  },
  "orig_nbformat": 4
 },
 "nbformat": 4,
 "nbformat_minor": 2
}
