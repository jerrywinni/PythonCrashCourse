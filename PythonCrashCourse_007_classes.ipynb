{
 "cells": [
  {
   "attachments": {},
   "cell_type": "markdown",
   "metadata": {},
   "source": [
    "\n",
    "# Classes\n",
    "\n",
    "__Object-oriented programming (OOP)__ is one of the most effective approaches to writing software. In object-oriented programming, you write classes that represent real-world things and situations, and you create objects based on these classes. When you write a class, you define the general behavior that a whole category of objects can have.\n",
    "\n",
    "-   When you create individual objects from the class, each object is automatically equipped with the general behavior; you can then give each object whatever unique traits you desire. You’ll be amazed how well real-world situations can be modeled with object-oriented programming.\n",
    "-   Making an object from a class is called **_instantiation_**, and you work with instances of a class. In this chapter you’ll write classes and create instances of those classes. You’ll specify the kind of information that can be stored in instances, and you’ll define actions that can be taken with these instances. You’ll also write classes that extend the functionality of existing classes, so similar classes can share common functionality, and you can do more with less code. You’ll store your classes in modules and import classes written by other programmers into your own program files.\n",
    "-   Learning about object-oriented programming will help you see the world as a programmer does. It’ll help you understand your code—not just what’s happening line by line, but also the bigger concepts behind it. Knowing the logic behind classes will train you to think logically, so you can write programs that effectively address almost any problem you encounter.\n",
    "-   Classes also make life easier for you and the other programmers you’ll work with as you take on increasingly complex challenges. When you and other programmers write code based on the same kind of logic, you’ll be able to understand each other’s work. Your programs will make sense to the people you work with, allowing everyone to accomplish more."
   ]
  },
  {
   "attachments": {},
   "cell_type": "markdown",
   "metadata": {},
   "source": [
    "Code: You can add in-line code by surrounding your code with backticks (```). If you want to add a block of code, you can use triple backticks. For example,\n",
    "\n",
    "```python\n",
    "print(\"Hello, World!\")\n",
    "```"
   ]
  },
  {
   "cell_type": "code",
   "execution_count": 2,
   "metadata": {},
   "outputs": [
    {
     "name": "stdout",
     "output_type": "stream",
     "text": [
      "Willie is now sitting.\n",
      "Willie rolled over!\n",
      "My dog's name is Willie.\n",
      "My dog is 6 years old.\n"
     ]
    }
   ],
   "source": [
    "# Creating the Dog Class\n",
    "# Each instance created from the Dog class will store a name and an age, and we’ll give each dog the ability to sit() and roll_over():\n",
    "\"\"\" By convention, capitalized names refer to classes in Python. There are no parentheses in the class definition because we’re creating this class from scratch. \n",
    "We then write a docstring describing what this class does.\"\"\"\n",
    "class Dog:\n",
    "    \"\"\"A simple attempt to model a dog.\"\"\"\n",
    "    def __init__(self, name, age):\n",
    "        \"\"\"Initialize name and age attributes.\"\"\"\n",
    "        self.name = name\n",
    "        self.age = age\n",
    "    \n",
    "    def sit(self):\n",
    "        \"\"\"Simulate a dog sitting in response to a command.\"\"\"\n",
    "        print(f\"{self.name} is now sitting.\")\n",
    "    \n",
    "    def roll_over(self):\n",
    "        \"\"\"Simulate rolling over in response to a command.\"\"\"\n",
    "        print(f\"{self.name} rolled over!\")\n",
    "\n",
    "my_dog = Dog('Willie', 6)\n",
    "my_dog.sit()\n",
    "my_dog.roll_over()\n",
    "\n",
    "print(f\"My dog's name is {my_dog.name}.\")\n",
    "print(f\"My dog is {my_dog.age} years old.\")"
   ]
  },
  {
   "cell_type": "code",
   "execution_count": 4,
   "metadata": {},
   "outputs": [
    {
     "name": "stdout",
     "output_type": "stream",
     "text": [
      "My dog's name is Willie.\n",
      "My dog is 6 years old.\n",
      "Willie is now sitting.\n",
      "\n",
      "Your dog's name is Lucy.\n",
      "Your dog is 3 years old.\n",
      "Lucy rolled over!\n"
     ]
    }
   ],
   "source": [
    "class Dog:\n",
    "    \"\"\"A simple attempt to model a dog.\"\"\"\n",
    "    def __init__(self, name, age):\n",
    "        \"\"\"Initialize name and age attributes.\"\"\"\n",
    "        self.name = name\n",
    "        self.age = age\n",
    "    \n",
    "    def sit(self):\n",
    "        \"\"\"Simulate a dog sitting in response to a command.\"\"\"\n",
    "        print(f\"{self.name} is now sitting.\")\n",
    "    \n",
    "    def roll_over(self):\n",
    "        \"\"\"Simulate rolling over in response to a command.\"\"\"\n",
    "        print(f\"{self.name} rolled over!\")\n",
    "\n",
    "my_dog = Dog('Willie', 6)\n",
    "your_dog = Dog('Lucy', 3)\n",
    "\n",
    "print(f\"My dog's name is {my_dog.name}.\")\n",
    "print(f\"My dog is {my_dog.age} years old.\")\n",
    "my_dog.sit()\n",
    "\n",
    "print(f\"\\nYour dog's name is {your_dog.name}.\")\n",
    "print(f\"Your dog is {your_dog.age} years old.\")\n",
    "your_dog.roll_over()"
   ]
  },
  {
   "cell_type": "code",
   "execution_count": 8,
   "metadata": {},
   "outputs": [
    {
     "name": "stdout",
     "output_type": "stream",
     "text": [
      "XYZ is one of most famour Southern East restaurant in Singapore. It's cuisine type is Western Foods.\n",
      "XYZ's open hour is 11:00am.\n",
      "XiangXiang is one of most famour Southern East restaurant in Singapore. It's cuisine type is Chinese Classic Foods.\n",
      "XiangXiang's open hour is 11:00am.\n"
     ]
    }
   ],
   "source": [
    "class Restaurant:\n",
    "    \"\"\"A simple attempt to model a restaurant.\"\"\"\n",
    "    def __init__(self, restaurant_name, cuisine_type):\n",
    "        \"\"\"Initialize restaurant name and cuisine types.\"\"\"\n",
    "        self.restaurant_name = restaurant_name\n",
    "        self.cuisine_type = cuisine_type\n",
    "    \n",
    "    def describe_restaurant(self):\n",
    "        \"\"\"prints these two pieces of information\"\"\"\n",
    "        print(f\"{self.restaurant_name} is one of most famour Southern East restaurant in Singapore. It's cuisine type is {self.cuisine_type}.\")\n",
    "    \n",
    "    def open_restaurant(self):\n",
    "        \"\"\"prints a message indicating that the restaurant is open.\"\"\"\n",
    "        print(f\"{self.restaurant_name}'s open hour is 11:00am.\")\n",
    "\n",
    "restaurant_0 = Restaurant('XYZ', 'Western Foods')\n",
    "restaurant_1 = Restaurant('XiangXiang', 'Chinese Classic Foods')\n",
    "\n",
    "restaurant_0.describe_restaurant()\n",
    "restaurant_0.open_restaurant()\n",
    "\n",
    "restaurant_1.describe_restaurant()\n",
    "restaurant_1.open_restaurant()\n",
    "\n"
   ]
  },
  {
   "cell_type": "code",
   "execution_count": 10,
   "metadata": {},
   "outputs": [
    {
     "name": "stdout",
     "output_type": "stream",
     "text": [
      "The staff, Account_staff_1's salary level is in range 1.\n",
      "The staff, Account_staff_2's salary level is in range 2.\n",
      "The staff, Account_staff_3's salary level is in range 3.\n"
     ]
    }
   ],
   "source": [
    "class Staff:\n",
    "    \"\"\"A simple attempt to model a staff.\"\"\"\n",
    "    def __init__(self, name, position):\n",
    "        self.name = name\n",
    "        self.position = position\n",
    "    \n",
    "    def salary_level(self):\n",
    "        if self.position == 'Account Executive':\n",
    "            print(f\"The staff, {self.name}'s salary level is in range 1.\")\n",
    "        elif self.position == 'Accountant':\n",
    "            print(f\"The staff, {self.name}'s salary level is in range 2.\")\n",
    "        else:\n",
    "            print(f\"The staff, {self.name}'s salary level is in range 3.\")\n",
    "\n",
    "staff_0 = Staff('Account_staff_1', 'Account Executive')\n",
    "staff_1 = Staff('Account_staff_2', 'Accountant')\n",
    "staff_2 = Staff('Account_staff_3', 'Finance Manager')\n",
    "\n",
    "staff_0.salary_level()\n",
    "staff_1.salary_level()\n",
    "staff_2.salary_level()"
   ]
  },
  {
   "cell_type": "code",
   "execution_count": 2,
   "metadata": {},
   "outputs": [
    {
     "name": "stdout",
     "output_type": "stream",
     "text": [
      "2024 Audi A4\n",
      "This car has 0 miles on it.\n"
     ]
    }
   ],
   "source": [
    "class Car:\n",
    "    \"\"\"A simple attempt to represent a car.\"\"\"\n",
    "    def __init__(self, make, model, year):\n",
    "        \"\"\"Initialize attributes to describe a car.\"\"\"\n",
    "        self.make = make\n",
    "        self.model = model\n",
    "        self.year = year\n",
    "        self.odometer_reading = 0 # assigned a default value\n",
    "    \n",
    "    def get_descriptive_name(self):\n",
    "        long_name = f\"{self.year} {self.make} {self.model}\"\n",
    "        return long_name.title()\n",
    "    \n",
    "    def read_odometer(self):\n",
    "        \"\"\"Print a statement showing the car's mileage.\"\"\"\n",
    "        print(f\"This car has {self.odometer_reading} miles on it.\")\n",
    "    \n",
    "my_new_car = Car('audi', 'a4', 2024)\n",
    "\n",
    "print(my_new_car.get_descriptive_name())  \n",
    "my_new_car.read_odometer()  "
   ]
  },
  {
   "attachments": {},
   "cell_type": "markdown",
   "metadata": {},
   "source": [
    "Modifying Attribute Values\n",
    "\n",
    "You can change an attribute’s value in three ways: \n",
    "-   You can change the value directly through an instance; or\n",
    "-   Set the value through a method; or\n",
    "-   Increment the value (add a certain amount to it) through a method. Let’s look at each of these approaches."
   ]
  },
  {
   "cell_type": "code",
   "execution_count": 3,
   "metadata": {},
   "outputs": [
    {
     "name": "stdout",
     "output_type": "stream",
     "text": [
      "2024 Audi A4\n",
      "This car has 23 miles on it.\n"
     ]
    }
   ],
   "source": [
    "# Modifying an Attribute’s Value Directly\n",
    "class Car:\n",
    "    \"\"\"A simple attempt to represent a car.\"\"\"\n",
    "    def __init__(self, make, model, year):\n",
    "        \"\"\"Initialize attributes to describe a car.\"\"\"\n",
    "        self.make = make\n",
    "        self.model = model\n",
    "        self.year = year\n",
    "        self.odometer_reading = 0 # assigned a default value\n",
    "    \n",
    "    def get_descriptive_name(self):\n",
    "        long_name = f\"{self.year} {self.make} {self.model}\"\n",
    "        return long_name.title()\n",
    "    \n",
    "    def read_odometer(self):\n",
    "        \"\"\"Print a statement showing the car's mileage.\"\"\"\n",
    "        print(f\"This car has {self.odometer_reading} miles on it.\")\n",
    "    \n",
    "my_new_car = Car('audi', 'a4', 2024)\n",
    "\n",
    "print(my_new_car.get_descriptive_name())  \n",
    "my_new_car.odometer_reading = 23\n",
    "my_new_car.read_odometer()  "
   ]
  },
  {
   "cell_type": "code",
   "execution_count": 13,
   "metadata": {},
   "outputs": [
    {
     "name": "stdout",
     "output_type": "stream",
     "text": [
      "2024 Audi A4\n",
      "You cannot roll back an odometer!\n"
     ]
    }
   ],
   "source": [
    "# Modifying an Attribute’s Value Through a Method\n",
    "class Car:\n",
    "    \"\"\"A simple attempt to represent a car.\"\"\"\n",
    "    def __init__(self, make, model, year):\n",
    "        \"\"\"Initialize attributes to describe a car.\"\"\"\n",
    "        self.make = make\n",
    "        self.model = model\n",
    "        self.year = year\n",
    "        self.odometer_reading = 20 # assigned a default value\n",
    "    \n",
    "    def get_descriptive_name(self):\n",
    "        long_name = f\"{self.year} {self.make} {self.model}\"\n",
    "        return long_name.title()\n",
    "    \n",
    "    def read_odometer(self):\n",
    "        \"\"\"Print a statement showing the car's mileage.\"\"\"\n",
    "        print(f\"This car has {self.odometer_reading} miles on it.\")\n",
    "    \n",
    "    def update_odometer(self, mileage):\n",
    "        \"\"\"Set the odemeter reading to the given value.\n",
    "           Rejct the change if it attempts to roll the odometer back.\n",
    "           Returns True if the update was successful, and False otherwise.\n",
    "        \"\"\"\n",
    "        if mileage >= self.odometer_reading:\n",
    "            self.odometer_reading = mileage\n",
    "            return True\n",
    "        else:\n",
    "            print(\"You cannot roll back an odometer!\")\n",
    "            return False\n",
    "    \n",
    "my_new_car = Car('audi', 'a4', 2024)\n",
    "print(my_new_car.get_descriptive_name())  \n",
    "\n",
    "if my_new_car.update_odometer(5): # only call read_odometer if update_odometer returns True\n",
    "    my_new_car.read_odometer()  "
   ]
  },
  {
   "cell_type": "code",
   "execution_count": 15,
   "metadata": {},
   "outputs": [
    {
     "name": "stdout",
     "output_type": "stream",
     "text": [
      "2019 Subaru Outback\n",
      "This car has 23500 miles on it.\n",
      "This car has 23600 miles on it.\n"
     ]
    }
   ],
   "source": [
    "# Incrementing an Attribute’s Value Through a Method\n",
    "class Car:\n",
    "    \"\"\"A simple attempt to represent a car.\"\"\"\n",
    "    def __init__(self, make, model, year):\n",
    "        \"\"\"Initialize attributes to describe a car.\"\"\"\n",
    "        self.make = make\n",
    "        self.model = model\n",
    "        self.year = year\n",
    "        self.odometer_reading = 0 # assigned a default value\n",
    "    \n",
    "    def get_descriptive_name(self):\n",
    "        long_name = f\"{self.year} {self.make} {self.model}\"\n",
    "        return long_name.title()\n",
    "    \n",
    "    def read_odometer(self):\n",
    "        \"\"\"Print a statement showing the car's mileage.\"\"\"\n",
    "        print(f\"This car has {self.odometer_reading} miles on it.\")\n",
    "    \n",
    "    def update_odometer(self, mileage):\n",
    "        \"\"\"Set the odemeter reading to the given value.\n",
    "           Rejct the change if it attempts to roll the odometer back.\n",
    "           Returns True if the update was successful, and False otherwise.\n",
    "        \"\"\"\n",
    "        if mileage >= self.odometer_reading:\n",
    "            self.odometer_reading = mileage\n",
    "            return True\n",
    "        else:\n",
    "            print(\"You cannot roll back an odometer!\")\n",
    "            return False\n",
    "        \n",
    "    def increment_odometer(self, miles):\n",
    "        \"\"\"Add the given amount to the odometer reading.\"\"\"\n",
    "        self.odometer_reading +=miles\n",
    "    \n",
    "my_used_car = Car('subaru', 'outback', 2019)\n",
    "print(my_used_car.get_descriptive_name()) \n",
    "\n",
    "my_used_car.update_odometer(23_500) # 23_500 = 23,500\n",
    "my_used_car.read_odometer()  \n",
    "\n",
    "my_used_car.increment_odometer(100)\n",
    "my_used_car.read_odometer()"
   ]
  },
  {
   "cell_type": "code",
   "execution_count": 24,
   "metadata": {},
   "outputs": [
    {
     "name": "stdout",
     "output_type": "stream",
     "text": [
      "XiangXiang is one of most famour Southern East restaurant in Singapore. It's cuisine type is Chinese Classic Foods.\n",
      "7 customers are be serving now.\n",
      "27 customers are be serving now.\n"
     ]
    }
   ],
   "source": [
    "class Restaurant:\n",
    "    \"\"\"A simple attempt to model a restaurant.\"\"\"\n",
    "    def __init__(self, restaurant_name, cuisine_type):\n",
    "        \"\"\"Initialize restaurant name and cuisine types.\"\"\"\n",
    "        self.restaurant_name = restaurant_name\n",
    "        self.cuisine_type = cuisine_type\n",
    "        self.number_served = 7 # assigned a default value\n",
    "    \n",
    "    def describe_restaurant(self):\n",
    "        \"\"\"prints these two pieces of information\"\"\"\n",
    "        print(f\"{self.restaurant_name} is one of most famour Southern East restaurant in Singapore. It's cuisine type is {self.cuisine_type}.\")\n",
    "    \n",
    "    def open_restaurant(self):\n",
    "        \"\"\"prints a message indicating that the restaurant is open.\"\"\"\n",
    "        print(f\"{self.restaurant_name}'s open hour is 11:00am.\")\n",
    "\n",
    "    def set_number_served(self):\n",
    "        \"\"\"Prints a message indicating how many customers are be serving now.\"\"\"\n",
    "        print(f\"{self.number_served} customers are be serving now.\")\n",
    "    \n",
    "    def increment_number_served(self, number):\n",
    "        \"\"\"increment the number of customers who've been served.\"\"\"\n",
    "        self.number_served += number\n",
    "\n",
    "\n",
    "restaurant_0 = Restaurant('XiangXiang', 'Chinese Classic Foods')\n",
    "restaurant_0.describe_restaurant()\n",
    "\n",
    "restaurant_0.number_served = 7\n",
    "restaurant_0.set_number_served()\n",
    "\n",
    "restaurant_0.increment_number_served(20)\n",
    "restaurant_0.set_number_served()\n"
   ]
  },
  {
   "cell_type": "code",
   "execution_count": 39,
   "metadata": {},
   "outputs": [
    {
     "name": "stdout",
     "output_type": "stream",
     "text": [
      "Dian Xiang\n",
      "Hello, Dian Xiang, Nice to meet you!\n",
      "Your login attempts number is 1.\n",
      "Your login attempts number is 2.\n",
      "Your login attempts number is 3.\n",
      "Your login attempts has been reset 0.\n",
      "\n",
      "Zhong Jun\n",
      "Hello, Zhong Jun, Nice to meet you!\n"
     ]
    }
   ],
   "source": [
    "class User:\n",
    "    def __init__(self, first_name, last_name):\n",
    "        self.first_name = first_name\n",
    "        self.last_name = last_name\n",
    "        self.login_attempts = 0 # default value\n",
    "\n",
    "    def describe_user(self):\n",
    "        \"\"\"Summary of the user's information.\"\"\"\n",
    "        full_name = f\"{self.first_name} {self.last_name}\"\n",
    "        return full_name\n",
    "\n",
    "    def greet_user(self):\n",
    "        \"\"\"Print a personalized greeting to the user.\"\"\"\n",
    "        print(f\"Hello, {self.describe_user()}, Nice to meet you!\")\n",
    "    \n",
    "    def increment_login_attempts(self):\n",
    "        \"\"\"Number of login attempts.\"\"\"\n",
    "        self.login_attempts += 1\n",
    "        print(f\"Your login attempts number is {self.login_attempts}.\")\n",
    "    \n",
    "    def reset_login_attempts(self):\n",
    "        \"\"\"reset the value\"\"\"\n",
    "        self.login_attempts = 0\n",
    "        print(f\"Your login attempts has been reset {self.login_attempts}.\")\n",
    "\n",
    "user_0 = User('Dian', 'Xiang')\n",
    "print(user_0.describe_user())\n",
    "user_0.greet_user()\n",
    "user_0.increment_login_attempts()\n",
    "user_0.increment_login_attempts()\n",
    "user_0.increment_login_attempts()\n",
    "user_0.reset_login_attempts()\n",
    "\n",
    "user_1 = User('Zhong', 'Jun')\n",
    "print(f\"\\n{user_1.describe_user()}\")\n",
    "user_1.greet_user()\n",
    "        "
   ]
  },
  {
   "attachments": {},
   "cell_type": "markdown",
   "metadata": {},
   "source": [
    "Inheritance\n",
    "\n",
    "You don’t always have to start from scratch when writing a class. If the class you’re writing is a specialized version of another class you wrote, you can use inheritance. When one class inherits from another, it takes on the attributes and methods of the first class. The original class is called the **parent class**, and the new class is the **child class**. The child class can inherit any or all of the attributes and methods of its parent class, but it’s also free to define new attributes and methods of its own."
   ]
  },
  {
   "cell_type": "code",
   "execution_count": 43,
   "metadata": {},
   "outputs": [
    {
     "name": "stdout",
     "output_type": "stream",
     "text": [
      "2024 Nissan Leaf\n",
      "This car has 0 miles on it.\n",
      "This car has a 40-kw battery.\n"
     ]
    }
   ],
   "source": [
    "class Car:\n",
    "    \"\"\"A simple attempt to represent a car.\"\"\"\n",
    "    def __init__(self, make, model, year):\n",
    "        \"\"\"Initialize attributes to describe a car.\"\"\"\n",
    "        self.make = make\n",
    "        self.model = model\n",
    "        self.year = year\n",
    "        self.odometer_reading = 0 # assigned a default value\n",
    "    \n",
    "    def get_descriptive_name(self):\n",
    "        long_name = f\"{self.year} {self.make} {self.model}\"\n",
    "        return long_name.title()\n",
    "    \n",
    "    def read_odometer(self):\n",
    "        \"\"\"Print a statement showing the car's mileage.\"\"\"\n",
    "        print(f\"This car has {self.odometer_reading} miles on it.\")\n",
    "    \n",
    "    def update_odometer(self, mileage):\n",
    "        \"\"\"Set the odemeter reading to the given value.\n",
    "           Rejct the change if it attempts to roll the odometer back.\n",
    "           Returns True if the update was successful, and False otherwise.\n",
    "        \"\"\"\n",
    "        if mileage >= self.odometer_reading:\n",
    "            self.odometer_reading = mileage\n",
    "            return True\n",
    "        else:\n",
    "            print(\"You cannot roll back an odometer!\")\n",
    "            return False\n",
    "        \n",
    "    def increment_odometer(self, miles):\n",
    "        \"\"\"Add the given amount to the odometer reading.\"\"\"\n",
    "        self.odometer_reading +=miles\n",
    "    \n",
    "class ElectricCar(Car):\n",
    "    \"\"\"Represent aspects of a car, specific to electric vehicles.\"\"\"\n",
    "    def __init__(self, make, model, year):\n",
    "        \"\"\"\n",
    "        Initialize attributes of the parent class.\n",
    "        Then initialize attributes specific to an electric car.   \n",
    "        \"\"\"\n",
    "        super().__init__(make, model, year) # The super() function in Python is used to call a method from a parent class in a child class. \n",
    "        self.battery_size = 40\n",
    "    \n",
    "    def describe_battery(self):\n",
    "        \"\"\"Print a statement describing the battery size.\"\"\"\n",
    "        print(f\"This car has a {self.battery_size}-kw battery.\")\n",
    "\n",
    "my_leaf = ElectricCar('nissan', 'leaf', 2024)\n",
    "print(my_leaf.get_descriptive_name())\n",
    "my_leaf.read_odometer()\n",
    "my_leaf.describe_battery()\n"
   ]
  },
  {
   "attachments": {},
   "cell_type": "markdown",
   "metadata": {},
   "source": [
    "Overriding Methods from the Parent Class\n",
    "\n",
    "You can override any method from the parent class that doesn’t fit what you’re trying to model with the child class. To do this, you define a method in the child class with\n",
    "the same name as the method you want to override in the parent class. Python will disregard the parent class method and only pay attention to the method you define in the child class."
   ]
  },
  {
   "cell_type": "code",
   "execution_count": 44,
   "metadata": {},
   "outputs": [
    {
     "name": "stdout",
     "output_type": "stream",
     "text": [
      "Hello, my name is Alice.\n",
      "Hello, my name is Bob and I attend Harvard.\n"
     ]
    }
   ],
   "source": [
    "class Person:\n",
    "    def __init__(self, name, age):\n",
    "        self.name = name\n",
    "        self.age = age\n",
    "\n",
    "    def greet(self):\n",
    "        print(f\"Hello, my name is {self.name}.\")\n",
    "\n",
    "class Student(Person):\n",
    "    def __init__(self, name, age, school):\n",
    "        super().__init__(name, age)\n",
    "        self.school = school\n",
    "\n",
    "    # Here we're overriding the greet() method of the parent class\n",
    "    def greet(self):\n",
    "        print(f\"Hello, my name is {self.name} and I attend {self.school}.\")\n",
    "\n",
    "p = Person('Alice', 30)\n",
    "s = Student('Bob', 20, 'Harvard')\n",
    "\n",
    "p.greet()  # \"Hello, my name is Alice.\"\n",
    "s.greet()  # \"Hello, my name is Bob and I attend Harvard.\""
   ]
  },
  {
   "attachments": {},
   "cell_type": "markdown",
   "metadata": {},
   "source": [
    "In above example, the *Person* class has a method `greet()`, which just prints out a greeting with the person's name. The *Student* class, however, needs a more specific greeting that also mentions the school they're attending. So in the Student class, we define a `greet()` method that does this.\n",
    "\n",
    "This `greet()` method in the Student class is an example of overriding the method from the parent class. When we call greet() on a Student object, Python will use the `greet()` method defined in the Student class, not the one in Person class. The `greet()` method in Student class effectively replaces or \"overrides\" the one in Person class when called from a Student object.\n",
    "\n",
    "As you can see, `p.greet()` uses `Person.greet()`, while `s.greet()` uses the overridden `Student.greet()` method."
   ]
  },
  {
   "attachments": {},
   "cell_type": "markdown",
   "metadata": {},
   "source": [
    "\n",
    "When modeling something from the real world in code, you may find that you’re adding more and more detail to a class. You’ll find that you have a growing list of attributes and methods and that your files are becoming lengthy. In these situations, you might recognize that part of one class can be written as a separate class. You can break your large class into smaller classes that work together; this approach is called **composition**."
   ]
  },
  {
   "cell_type": "code",
   "execution_count": 60,
   "metadata": {},
   "outputs": [
    {
     "name": "stdout",
     "output_type": "stream",
     "text": [
      "2024 Nissan Leaf\n",
      "This car has a 65-kwh battery.\n",
      "This car can go about 225 miles on a full charge.\n"
     ]
    }
   ],
   "source": [
    "class Car:\n",
    "    \"\"\"A simple attempt to represent a car.\"\"\"\n",
    "    def __init__(self, make, model, year):\n",
    "        \"\"\"Initialize attributes to describe a car.\"\"\"\n",
    "        self.make = make\n",
    "        self.model = model\n",
    "        self.year = year\n",
    "        self.odometer_reading = 0 # assigned a default value\n",
    "    \n",
    "    def get_descriptive_name(self):\n",
    "        long_name = f\"{self.year} {self.make} {self.model}\"\n",
    "        return long_name.title()\n",
    "    \n",
    "    def read_odometer(self):\n",
    "        \"\"\"Print a statement showing the car's mileage.\"\"\"\n",
    "        print(f\"This car has {self.odometer_reading} miles on it.\")\n",
    "    \n",
    "    def update_odometer(self, mileage):\n",
    "        \"\"\"Set the odemeter reading to the given value.\n",
    "           Rejct the change if it attempts to roll the odometer back.\n",
    "           Returns True if the update was successful, and False otherwise.\n",
    "        \"\"\"\n",
    "        if mileage >= self.odometer_reading:\n",
    "            self.odometer_reading = mileage\n",
    "            return True\n",
    "        else:\n",
    "            print(\"You cannot roll back an odometer!\")\n",
    "            return False\n",
    "        \n",
    "    def increment_odometer(self, miles):\n",
    "        \"\"\"Add the given amount to the odometer reading.\"\"\"\n",
    "        self.odometer_reading +=miles\n",
    "\n",
    "class Battery:\n",
    "    \"\"\"A simple attempt to model a battery for an electric car.\"\"\"\n",
    "    def __init__(self, battery_size=40):\n",
    "        \"\"\"Initialize the battery's attributes.\"\"\"\n",
    "        self.battery_size = battery_size\n",
    "    \n",
    "    def describe_battery(self):\n",
    "        \"\"\"Print a statement describing the battery size.\"\"\"\n",
    "        print(f\"This car has a {self.battery_size}-kwh battery.\")\n",
    "    \n",
    "    def update_battery_size(self, battery_size):\n",
    "        \"\"\"Update battery size.\"\"\"\n",
    "        self.battery_size = battery_size\n",
    "    \n",
    "    def get_range(self):\n",
    "        \"\"\"Print a statement about the range this battery provides.\"\"\"\n",
    "        if self.battery_size == 40:\n",
    "            range = 150\n",
    "        elif self.battery_size == 65:\n",
    "            range = 225\n",
    "        else:\n",
    "            range = 1000\n",
    "        \n",
    "        print(f\"This car can go about {range} miles on a full charge.\")\n",
    "\n",
    "class ElectricCar(Car):\n",
    "    \"\"\"Represent aspects of a car, specific to electric vehicles.\"\"\"\n",
    "    def __init__(self, make, model, year):\n",
    "        \"\"\"\n",
    "        Initialize attributes of the parent class.\n",
    "        Then initialize attributes specific to an electric car.   \n",
    "        \"\"\"\n",
    "        super().__init__(make, model, year) # The super() function in Python is used to call a method from a parent class in a child class. \n",
    "        self.battery = Battery() # create a new instance of Battery and assign that instance to the attribute self.battery.  \n",
    "                                 # This will happen every time the __init__() method is called; any ElectricCar instance will now have a Battery instance created automatically.\n",
    "\n",
    "my_leaf = ElectricCar('nissan', 'leaf', 2024)\n",
    "print(my_leaf.get_descriptive_name())\n",
    "\n",
    "my_leaf.battery.update_battery_size(65)\n",
    "my_leaf.battery.describe_battery()\n",
    "my_leaf.battery.get_range()"
   ]
  },
  {
   "cell_type": "code",
   "execution_count": 66,
   "metadata": {},
   "outputs": [
    {
     "name": "stdout",
     "output_type": "stream",
     "text": [
      "XiangXiang is one of most famour Southern East restaurant in Singapore. It's cuisine type is Chinese Classic Foods.\n",
      "We have the following falovrs available:\n",
      "- mango\n",
      "- vanila\n",
      "- chocolate\n"
     ]
    }
   ],
   "source": [
    "class Restaurant:\n",
    "    \"\"\"A simple attempt to model a restaurant.\"\"\"\n",
    "    def __init__(self, restaurant_name, cuisine_type):\n",
    "        \"\"\"Initialize restaurant name and cuisine types.\"\"\"\n",
    "        self.restaurant_name = restaurant_name\n",
    "        self.cuisine_type = cuisine_type\n",
    "    \n",
    "    def describe_restaurant(self):\n",
    "        \"\"\"prints these two pieces of information\"\"\"\n",
    "        print(f\"{self.restaurant_name} is one of most famour Southern East restaurant in Singapore. It's cuisine type is {self.cuisine_type}.\")\n",
    "    \n",
    "    def open_restaurant(self):\n",
    "        \"\"\"prints a message indicating that the restaurant is open.\"\"\"\n",
    "        print(f\"{self.restaurant_name}'s open hour is 11:00am.\")\n",
    "\n",
    "class IceCreamStand (Restaurant):\n",
    "    \"\"\"A simple attempt to model an ice cream stand.\"\"\"\n",
    "    def __init__(self, restaurant_name, cuisine_type='Ice Cream'):\n",
    "        \"\"\" \n",
    "        Initialize attributes of the parent class.\n",
    "        Then initialize attributes specific to an ice cream stand.\n",
    "        \"\"\"\n",
    "        super().__init__(restaurant_name, cuisine_type)\n",
    "        self.flavors = ['mango', 'vanila', 'chocolate']\n",
    "    \n",
    "    def display_flavors(self):\n",
    "        \"\"\"Display the flavors abvailable at the ice cream stand.\"\"\"\n",
    "        print(\"We have the following falovrs available:\")\n",
    "        for flavor in self.flavors:\n",
    "            print(\"- \" + flavor)\n",
    "\n",
    "restaurant_0 = IceCreamStand('XiangXiang', 'Chinese Classic Foods')\n",
    "restaurant_0.describe_restaurant()\n",
    "\n",
    "my_icecream_stand = IceCreamStand(\"Ice Cream Paradise\")\n",
    "my_icecream_stand.display_flavors()"
   ]
  },
  {
   "cell_type": "code",
   "execution_count": 78,
   "metadata": {},
   "outputs": [
    {
     "name": "stdout",
     "output_type": "stream",
     "text": [
      "Xiao long\n",
      "You, as admin have following privileges:\n",
      "- can add post\n",
      "- can delete post\n",
      "- can ban user\n"
     ]
    }
   ],
   "source": [
    "class User:\n",
    "    def __init__(self, first_name, last_name):\n",
    "        self.first_name = first_name\n",
    "        self.last_name = last_name\n",
    "        self.login_attempts = 0 # default value\n",
    "\n",
    "    def describe_user(self):\n",
    "        \"\"\"Summary of the user's information.\"\"\"\n",
    "        full_name = f\"{self.first_name} {self.last_name}\"\n",
    "        return full_name\n",
    "\n",
    "    def greet_user(self):\n",
    "        \"\"\"Print a personalized greeting to the user.\"\"\"\n",
    "        print(f\"Hello, {self.describe_user()}, Nice to meet you!\")\n",
    "    \n",
    "    def increment_login_attempts(self):\n",
    "        \"\"\"Number of login attempts.\"\"\"\n",
    "        self.login_attempts += 1\n",
    "        print(f\"Your login attempts number is {self.login_attempts}.\")\n",
    "    \n",
    "    def reset_login_attempts(self):\n",
    "        \"\"\"reset the value\"\"\"\n",
    "        self.login_attempts = 0\n",
    "        print(f\"Your login attempts has been reset {self.login_attempts}.\")\n",
    "\n",
    "class Admin(User):\n",
    "    def __init__(self, first_name, last_name):\n",
    "        super().__init__(first_name, last_name)\n",
    "        self.privileges = [\"can add post\", \"can delete post\", \"can ban user\"]\n",
    "    \n",
    "    def show_privileges(self):\n",
    "        print(\"You, as admin have following privileges:\")\n",
    "        for privilege in self.privileges:\n",
    "            print(f\"- {privilege}\")\n",
    "\n",
    "user_0 = Admin('Xiao', 'long')\n",
    "print(user_0.describe_user())\n",
    "user_0.show_privileges()   "
   ]
  },
  {
   "attachments": {},
   "cell_type": "markdown",
   "metadata": {},
   "source": [
    "Importing a Single Class"
   ]
  },
  {
   "cell_type": "code",
   "execution_count": 81,
   "metadata": {},
   "outputs": [
    {
     "name": "stdout",
     "output_type": "stream",
     "text": [
      "2024 Audi A4\n",
      "This car has 23 miles on it.\n"
     ]
    }
   ],
   "source": [
    "from car import Car\n",
    "\n",
    "my_new_car = Car('audi', 'a4', 2024)\n",
    "print(my_new_car.get_descriptive_name())\n",
    "\n",
    "my_new_car.odometer_reading = 23\n",
    "my_new_car.read_odometer()\n"
   ]
  },
  {
   "cell_type": "code",
   "execution_count": 5,
   "metadata": {},
   "outputs": [
    {
     "name": "stdout",
     "output_type": "stream",
     "text": [
      "2024 Nissan Leaf\n",
      "This car has a 40-kwh battery.\n",
      "This car can go about 150 miles on a full charge.\n"
     ]
    }
   ],
   "source": [
    "from car import ElectricCar\n",
    "\n",
    "my_leaf = ElectricCar('nissan', 'leaf', 2024)\n",
    "print(my_leaf.get_descriptive_name())\n",
    "my_leaf.battery.describe_battery()\n",
    "my_leaf.battery.get_range()"
   ]
  },
  {
   "cell_type": "code",
   "execution_count": 8,
   "metadata": {},
   "outputs": [
    {
     "name": "stdout",
     "output_type": "stream",
     "text": [
      "2024 Ford Mustang\n",
      "2024 Nissan Leaf\n"
     ]
    }
   ],
   "source": [
    "from car import Car, ElectricCar\n",
    "\n",
    "my_mustang = Car('ford', 'mustang', 2024)\n",
    "print(my_mustang.get_descriptive_name())\n",
    "\n",
    "my_leaf = ElectricCar('nissan', 'leaf', 2024)\n",
    "print(my_leaf.get_descriptive_name())"
   ]
  },
  {
   "cell_type": "code",
   "execution_count": 10,
   "metadata": {},
   "outputs": [
    {
     "name": "stdout",
     "output_type": "stream",
     "text": [
      "2024 Ford Mustang\n",
      "2024 Nissan Leaf\n"
     ]
    }
   ],
   "source": [
    "import car\n",
    "\n",
    "my_mustang = car.Car('ford', 'mustang', 2024)\n",
    "print(my_mustang.get_descriptive_name())\n",
    "\n",
    "my_leaf = car.ElectricCar('nissan', 'leaf', 2024)\n",
    "print(my_leaf.get_descriptive_name())"
   ]
  },
  {
   "cell_type": "code",
   "execution_count": 13,
   "metadata": {},
   "outputs": [
    {
     "name": "stdout",
     "output_type": "stream",
     "text": [
      "2024 Ford Mustang\n",
      "2024 Nissan Leaf\n",
      "This car has a 65-kwh battery.\n",
      "This car can go about 225 miles on a full charge.\n"
     ]
    }
   ],
   "source": [
    "from cars import Car, ElectricCar\n",
    "\n",
    "\n",
    "my_mustang = Car('ford', 'mustang', 2024)\n",
    "print(my_mustang.get_descriptive_name())\n",
    "\n",
    "my_leaf = ElectricCar('nissan', 'leaf', 2024)\n",
    "print(my_leaf.get_descriptive_name())\n",
    "\n",
    "my_leaf.battery.update_battery_size(65)\n",
    "my_leaf.battery.describe_battery()\n",
    "my_leaf.battery.get_range()"
   ]
  },
  {
   "cell_type": "code",
   "execution_count": null,
   "metadata": {},
   "outputs": [],
   "source": []
  }
 ],
 "metadata": {
  "kernelspec": {
   "display_name": "Python 3",
   "language": "python",
   "name": "python3"
  },
  "language_info": {
   "codemirror_mode": {
    "name": "ipython",
    "version": 3
   },
   "file_extension": ".py",
   "mimetype": "text/x-python",
   "name": "python",
   "nbconvert_exporter": "python",
   "pygments_lexer": "ipython3",
   "version": "3.11.2"
  },
  "orig_nbformat": 4
 },
 "nbformat": 4,
 "nbformat_minor": 2
}
