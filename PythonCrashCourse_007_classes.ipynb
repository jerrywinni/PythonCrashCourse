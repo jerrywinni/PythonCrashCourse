{
 "cells": [
  {
   "attachments": {},
   "cell_type": "markdown",
   "metadata": {},
   "source": [
    "\n",
    "# Classes\n",
    "\n",
    "__Object-oriented programming (OOP)__ is one of the most effective approaches to writing software. In object-oriented programming, you write classes that represent real-world things and situations, and you create objects based on these classes. When you write a class, you define the general behavior that a whole category of objects can have.\n",
    "\n",
    "-   When you create individual objects from the class, each object is automatically equipped with the general behavior; you can then give each object whatever unique traits you desire. You’ll be amazed how well real-world situations can be modeled with object-oriented programming.\n",
    "-   Making an object from a class is called **_instantiation_**, and you work with instances of a class. In this chapter you’ll write classes and create instances of those classes. You’ll specify the kind of information that can be stored in instances, and you’ll define actions that can be taken with these instances. You’ll also write classes that extend the functionality of existing classes, so similar classes can share common functionality, and you can do more with less code. You’ll store your classes in modules and import classes written by other programmers into your own program files.\n",
    "-   Learning about object-oriented programming will help you see the world as a programmer does. It’ll help you understand your code—not just what’s happening line by line, but also the bigger concepts behind it. Knowing the logic behind classes will train you to think logically, so you can write programs that effectively address almost any problem you encounter.\n",
    "-   Classes also make life easier for you and the other programmers you’ll work with as you take on increasingly complex challenges. When you and other programmers write code based on the same kind of logic, you’ll be able to understand each other’s work. Your programs will make sense to the people you work with, allowing everyone to accomplish more."
   ]
  },
  {
   "attachments": {},
   "cell_type": "markdown",
   "metadata": {},
   "source": [
    "Code: You can add in-line code by surrounding your code with backticks (```). If you want to add a block of code, you can use triple backticks. For example,\n",
    "\n",
    "```python\n",
    "print(\"Hello, World!\")\n",
    "```"
   ]
  },
  {
   "cell_type": "code",
   "execution_count": 2,
   "metadata": {},
   "outputs": [
    {
     "name": "stdout",
     "output_type": "stream",
     "text": [
      "Willie is now sitting.\n",
      "Willie rolled over!\n",
      "My dog's name is Willie.\n",
      "My dog is 6 years old.\n"
     ]
    }
   ],
   "source": [
    "# Creating the Dog Class\n",
    "# Each instance created from the Dog class will store a name and an age, and we’ll give each dog the ability to sit() and roll_over():\n",
    "\"\"\" By convention, capitalized names refer to classes in Python. There are no parentheses in the class definition because we’re creating this class from scratch. \n",
    "We then write a docstring describing what this class does.\"\"\"\n",
    "class Dog:\n",
    "    \"\"\"A simple attempt to model a dog.\"\"\"\n",
    "    def __init__(self, name, age):\n",
    "        \"\"\"Initialize name and age attributes.\"\"\"\n",
    "        self.name = name\n",
    "        self.age = age\n",
    "    \n",
    "    def sit(self):\n",
    "        \"\"\"Simulate a dog sitting in response to a command.\"\"\"\n",
    "        print(f\"{self.name} is now sitting.\")\n",
    "    \n",
    "    def roll_over(self):\n",
    "        \"\"\"Simulate rolling over in response to a command.\"\"\"\n",
    "        print(f\"{self.name} rolled over!\")\n",
    "\n",
    "my_dog = Dog('Willie', 6)\n",
    "my_dog.sit()\n",
    "my_dog.roll_over()\n",
    "\n",
    "print(f\"My dog's name is {my_dog.name}.\")\n",
    "print(f\"My dog is {my_dog.age} years old.\")"
   ]
  },
  {
   "cell_type": "code",
   "execution_count": 4,
   "metadata": {},
   "outputs": [
    {
     "name": "stdout",
     "output_type": "stream",
     "text": [
      "My dog's name is Willie.\n",
      "My dog is 6 years old.\n",
      "Willie is now sitting.\n",
      "\n",
      "Your dog's name is Lucy.\n",
      "Your dog is 3 years old.\n",
      "Lucy rolled over!\n"
     ]
    }
   ],
   "source": [
    "class Dog:\n",
    "    \"\"\"A simple attempt to model a dog.\"\"\"\n",
    "    def __init__(self, name, age):\n",
    "        \"\"\"Initialize name and age attributes.\"\"\"\n",
    "        self.name = name\n",
    "        self.age = age\n",
    "    \n",
    "    def sit(self):\n",
    "        \"\"\"Simulate a dog sitting in response to a command.\"\"\"\n",
    "        print(f\"{self.name} is now sitting.\")\n",
    "    \n",
    "    def roll_over(self):\n",
    "        \"\"\"Simulate rolling over in response to a command.\"\"\"\n",
    "        print(f\"{self.name} rolled over!\")\n",
    "\n",
    "my_dog = Dog('Willie', 6)\n",
    "your_dog = Dog('Lucy', 3)\n",
    "\n",
    "print(f\"My dog's name is {my_dog.name}.\")\n",
    "print(f\"My dog is {my_dog.age} years old.\")\n",
    "my_dog.sit()\n",
    "\n",
    "print(f\"\\nYour dog's name is {your_dog.name}.\")\n",
    "print(f\"Your dog is {your_dog.age} years old.\")\n",
    "your_dog.roll_over()"
   ]
  },
  {
   "cell_type": "code",
   "execution_count": 8,
   "metadata": {},
   "outputs": [
    {
     "name": "stdout",
     "output_type": "stream",
     "text": [
      "XYZ is one of most famour Southern East restaurant in Singapore. It's cuisine type is Western Foods.\n",
      "XYZ's open hour is 11:00am.\n",
      "XiangXiang is one of most famour Southern East restaurant in Singapore. It's cuisine type is Chinese Classic Foods.\n",
      "XiangXiang's open hour is 11:00am.\n"
     ]
    }
   ],
   "source": [
    "class Restaurant:\n",
    "    \"\"\"A simple attempt to model a restaurant.\"\"\"\n",
    "    def __init__(self, restaurant_name, cuisine_type):\n",
    "        \"\"\"Initialize restaurant name and cuisine types.\"\"\"\n",
    "        self.restaurant_name = restaurant_name\n",
    "        self.cuisine_type = cuisine_type\n",
    "    \n",
    "    def describe_restaurant(self):\n",
    "        \"\"\"prints these two pieces of information\"\"\"\n",
    "        print(f\"{self.restaurant_name} is one of most famour Southern East restaurant in Singapore. It's cuisine type is {self.cuisine_type}.\")\n",
    "    \n",
    "    def open_restaurant(self):\n",
    "        \"\"\"prints a message indicating that the restaurant is open.\"\"\"\n",
    "        print(f\"{self.restaurant_name}'s open hour is 11:00am.\")\n",
    "\n",
    "restaurant_0 = Restaurant('XYZ', 'Western Foods')\n",
    "restaurant_1 = Restaurant('XiangXiang', 'Chinese Classic Foods')\n",
    "\n",
    "restaurant_0.describe_restaurant()\n",
    "restaurant_0.open_restaurant()\n",
    "\n",
    "restaurant_1.describe_restaurant()\n",
    "restaurant_1.open_restaurant()\n",
    "\n"
   ]
  },
  {
   "cell_type": "code",
   "execution_count": 10,
   "metadata": {},
   "outputs": [
    {
     "name": "stdout",
     "output_type": "stream",
     "text": [
      "The staff, Account_staff_1's salary level is in range 1.\n",
      "The staff, Account_staff_2's salary level is in range 2.\n",
      "The staff, Account_staff_3's salary level is in range 3.\n"
     ]
    }
   ],
   "source": [
    "class Staff:\n",
    "    \"\"\"A simple attempt to model a staff.\"\"\"\n",
    "    def __init__(self, name, position):\n",
    "        self.name = name\n",
    "        self.position = position\n",
    "    \n",
    "    def salary_level(self):\n",
    "        if self.position == 'Account Executive':\n",
    "            print(f\"The staff, {self.name}'s salary level is in range 1.\")\n",
    "        elif self.position == 'Accountant':\n",
    "            print(f\"The staff, {self.name}'s salary level is in range 2.\")\n",
    "        else:\n",
    "            print(f\"The staff, {self.name}'s salary level is in range 3.\")\n",
    "\n",
    "staff_0 = Staff('Account_staff_1', 'Account Executive')\n",
    "staff_1 = Staff('Account_staff_2', 'Accountant')\n",
    "staff_2 = Staff('Account_staff_3', 'Finance Manager')\n",
    "\n",
    "staff_0.salary_level()\n",
    "staff_1.salary_level()\n",
    "staff_2.salary_level()"
   ]
  },
  {
   "cell_type": "code",
   "execution_count": null,
   "metadata": {},
   "outputs": [],
   "source": []
  }
 ],
 "metadata": {
  "kernelspec": {
   "display_name": "Python 3",
   "language": "python",
   "name": "python3"
  },
  "language_info": {
   "codemirror_mode": {
    "name": "ipython",
    "version": 3
   },
   "file_extension": ".py",
   "mimetype": "text/x-python",
   "name": "python",
   "nbconvert_exporter": "python",
   "pygments_lexer": "ipython3",
   "version": "3.11.2"
  },
  "orig_nbformat": 4
 },
 "nbformat": 4,
 "nbformat_minor": 2
}
