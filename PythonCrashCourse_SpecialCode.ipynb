{
 "cells": [
  {
   "cell_type": "code",
   "execution_count": null,
   "metadata": {},
   "outputs": [],
   "source": [
    "\"\"\" \n",
    "The script defines a function split_pdf_to_smaller that splits a PDF into smaller parts, each containing no more than a specified number of pages. The function works as follows:\n",
    "\n",
    "1. It takes two arguments: file_path (the path to the PDF file you want to split) and max_pages (the maximum number of pages each split PDF should contain). The default value for max_pages is 250.\n",
    "\n",
    "2. The function uses PdfReader from PyPDF2 to read the PDF file and determine the total number of pages.\n",
    "\n",
    "3. It loops over the pages in increments of max_pages. For each iteration, it creates a PdfWriter object and an output filename.\n",
    "\n",
    "4. Within each block of max_pages, it adds the page to the PdfWriter object.\n",
    "\n",
    "5. It writes the pages to the output file with the PdfWriter.write method.\n",
    "\n",
    "6. Finally, the script calls the function split_pdf_to_smaller with a specific file path to execute the splitting.\n",
    "\"\"\"\n",
    "import os\n",
    "from PyPDF2 import PdfReader, PdfWriter\n",
    "\n",
    "def split_pdf_to_smaller(file_path, max_pages=250):\n",
    "    reader = PdfReader(file_path)\n",
    "    total_pages = len(reader.pages)\n",
    "\n",
    "    for page in range(0, total_pages, max_pages):\n",
    "        writer = PdfWriter()\n",
    "        output_filename = f\"{os.path.splitext(file_path)[0]}_part_{page//max_pages+1}.pdf\"\n",
    "            \n",
    "        for page_number in range(page, min(page+max_pages, total_pages)):\n",
    "            writer.add_page(reader.pages[page_number])\n",
    "            \n",
    "        with open(output_filename, 'wb') as output_pdf:\n",
    "            writer.write(output_pdf)\n",
    "\n",
    "split_pdf_to_smaller('C:/Users/admin/Desktop/(新曲线·心理学丛书) 戴维·迈尔斯 - 社会心理学（第11版）-人民邮电出版社 (2016).pdf') # need to change the file path here."
   ]
  },
  {
   "cell_type": "code",
   "execution_count": 1,
   "metadata": {},
   "outputs": [],
   "source": [
    "\"\"\" \n",
    "这段代码的主要功能是从CSV文件中读取数据，然后将“单词”列的内容按照每30个进行分组，并将这些分组内容输出到一个txt文件中。因此，你可以根据这个功能来命名这段代码。以下是一些命名建议：\n",
    "group_and_write_words\n",
    "csv_to_grouped_txt\n",
    "extract_and_group_words\n",
    "word_group_exporter\n",
    "\"\"\"\n",
    "\n",
    "import pandas as pd\n",
    "\n",
    "# 加载CSV文件\n",
    "df = pd.read_csv('C:/Users/admin/Desktop/1.csv')\n",
    "\n",
    "# 截取B列的内容\n",
    "column_b = df['单词']\n",
    "\n",
    "# 按照30个一组进行区分\n",
    "groups = [column_b[i:i+30] for i in range(0, len(column_b), 30)]\n",
    "\n",
    "# 输出或处理这些分组\n",
    "with open('output.txt', 'w') as f:\n",
    "    for group in groups:\n",
    "        f.write(','.join(map(str, group)) + '\\n')\n",
    "        f.write('-----\\n')  # 特殊符号，用于分隔不同的组\n",
    "    f.write(\"一共输出了{}组\".format(len(groups)))"
   ]
  },
  {
   "cell_type": "code",
   "execution_count": 9,
   "metadata": {},
   "outputs": [
    {
     "name": "stderr",
     "output_type": "stream",
     "text": [
      "C:\\Users\\Public\\Documents\\Wondershare\\CreatorTemp\\ipykernel_20064\\1034937226.py:51: FutureWarning: save is not part of the public API, usage can give unexpected results and will be removed in a future version\n",
      "  writer.save()\n"
     ]
    }
   ],
   "source": [
    "\"\"\"Accroding to pre-setting order to arrange your lists.\"\"\"\n"
   ]
  }
 ],
 "metadata": {
  "kernelspec": {
   "display_name": "Python 3",
   "language": "python",
   "name": "python3"
  },
  "language_info": {
   "codemirror_mode": {
    "name": "ipython",
    "version": 3
   },
   "file_extension": ".py",
   "mimetype": "text/x-python",
   "name": "python",
   "nbconvert_exporter": "python",
   "pygments_lexer": "ipython3",
   "version": "3.11.2"
  },
  "orig_nbformat": 4
 },
 "nbformat": 4,
 "nbformat_minor": 2
}
