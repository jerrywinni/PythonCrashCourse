{
 "cells": [
  {
   "cell_type": "code",
   "execution_count": null,
   "metadata": {},
   "outputs": [],
   "source": [
    "\"\"\" \n",
    "The script defines a function split_pdf_to_smaller that splits a PDF into smaller parts, each containing no more than a specified number of pages. The function works as follows:\n",
    "\n",
    "1. It takes two arguments: file_path (the path to the PDF file you want to split) and max_pages (the maximum number of pages each split PDF should contain). The default value for max_pages is 250.\n",
    "\n",
    "2. The function uses PdfReader from PyPDF2 to read the PDF file and determine the total number of pages.\n",
    "\n",
    "3. It loops over the pages in increments of max_pages. For each iteration, it creates a PdfWriter object and an output filename.\n",
    "\n",
    "4. Within each block of max_pages, it adds the page to the PdfWriter object.\n",
    "\n",
    "5. It writes the pages to the output file with the PdfWriter.write method.\n",
    "\n",
    "6. Finally, the script calls the function split_pdf_to_smaller with a specific file path to execute the splitting.\n",
    "\"\"\"\n",
    "import os\n",
    "from PyPDF2 import PdfReader, PdfWriter\n",
    "\n",
    "def split_pdf_to_smaller(file_path, max_pages=250):\n",
    "    reader = PdfReader(file_path)\n",
    "    total_pages = len(reader.pages)\n",
    "\n",
    "    for page in range(0, total_pages, max_pages):\n",
    "        writer = PdfWriter()\n",
    "        output_filename = f\"{os.path.splitext(file_path)[0]}_part_{page//max_pages+1}.pdf\"\n",
    "            \n",
    "        for page_number in range(page, min(page+max_pages, total_pages)):\n",
    "            writer.add_page(reader.pages[page_number])\n",
    "            \n",
    "        with open(output_filename, 'wb') as output_pdf:\n",
    "            writer.write(output_pdf)\n",
    "\n",
    "split_pdf_to_smaller('C:/Users/admin/Desktop/(新曲线·心理学丛书) 戴维·迈尔斯 - 社会心理学（第11版）-人民邮电出版社 (2016).pdf')"
   ]
  }
 ],
 "metadata": {
  "kernelspec": {
   "display_name": "Python 3",
   "language": "python",
   "name": "python3"
  },
  "language_info": {
   "name": "python",
   "version": "3.11.2"
  },
  "orig_nbformat": 4
 },
 "nbformat": 4,
 "nbformat_minor": 2
}
