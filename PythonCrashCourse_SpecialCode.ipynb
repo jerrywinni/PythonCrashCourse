{
 "cells": [
  {
   "cell_type": "code",
   "execution_count": null,
   "metadata": {},
   "outputs": [],
   "source": [
    "import os\n",
    "from PyPDF2 import PdfReader, PdfWriter\n",
    "\n",
    "def split_pdf_to_smaller(file_path, max_pages=250):\n",
    "    reader = PdfReader(file_path)\n",
    "    total_pages = len(reader.pages)\n",
    "\n",
    "    for page in range(0, total_pages, max_pages):\n",
    "        writer = PdfWriter()\n",
    "        output_filename = f\"{os.path.splitext(file_path)[0]}_part_{page//max_pages+1}.pdf\"\n",
    "            \n",
    "        for page_number in range(page, min(page+max_pages, total_pages)):\n",
    "            writer.add_page(reader.pages[page_number])\n",
    "            \n",
    "        with open(output_filename, 'wb') as output_pdf:\n",
    "            writer.write(output_pdf)\n",
    "\n",
    "split_pdf_to_smaller('C:/Users/admin/Desktop/(新曲线·心理学丛书) 戴维·迈尔斯 - 社会心理学（第11版）-人民邮电出版社 (2016).pdf')"
   ]
  }
 ],
 "metadata": {
  "kernelspec": {
   "display_name": "Python 3",
   "language": "python",
   "name": "python3"
  },
  "language_info": {
   "name": "python",
   "version": "3.11.2"
  },
  "orig_nbformat": 4
 },
 "nbformat": 4,
 "nbformat_minor": 2
}
